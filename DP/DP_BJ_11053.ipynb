{
 "cells": [
  {
   "cell_type": "markdown",
   "metadata": {},
   "source": [
    "## 백준온라인 저지 0000 번 문제 : \n",
    "문제 출처 : https://www.acmicpc.net/problem/11053\n"
   ]
  },
  {
   "cell_type": "markdown",
   "metadata": {},
   "source": [
    "## 제출 코드\n",
    "```python\n",
    "\n",
    "```"
   ]
  },
  {
   "cell_type": "markdown",
   "metadata": {},
   "source": [
    "---\n",
    "## 풀이 코드"
   ]
  },
  {
   "cell_type": "markdown",
   "metadata": {},
   "source": [
    "### 입력\n",
    "* :\n",
    "\n",
    "\n",
    "### 출력\n",
    "* \n",
    "\n",
    "\n",
    "### 문제 접근\n",
    "문제접근은 이렇게 하였습니다.\n",
    "* ~~ 이 면 됨.\n",
    "\n",
    "\n",
    "### 문제 해설\n",
    "~ 다음과 같다.   \n",
    "\n",
    "* 이다.\n",
    "\n",
    "> N개의 노드와, M개의 간선을 가진 그래프가 주어질 때, Target1 노드와 Target2 노드의 거리를 구하는 문제 (단, 서로 다른 그래프일 경우 -1 을 반환하면 됨.)\n",
    "\n",
    "< 코드 구현 > \n",
    "\n",
    "\n",
    "1. "
   ]
  },
  {
   "cell_type": "code",
   "execution_count": 50,
   "metadata": {},
   "outputs": [
    {
     "name": "stdout",
     "output_type": "stream",
     "text": [
      "6 \n",
      "10 20 10 30 20 50\n",
      "4\n"
     ]
    }
   ],
   "source": [
    "cnt = int(input())\n",
    "seq = list(map(int, input().split()))\n",
    "\n",
    "dp = [1 for _ in range(cnt)]\n",
    "\n",
    "for i in range(cnt):\n",
    "    for j in range(i):\n",
    "        if seq[j] < seq[i]:\n",
    "             dp[i] = max(dp[i], dp[j]+1)\n",
    "\n",
    "print(max(dp))"
   ]
  },
  {
   "cell_type": "code",
   "execution_count": 52,
   "metadata": {},
   "outputs": [
    {
     "name": "stdout",
     "output_type": "stream",
     "text": [
      "6\n",
      "10 20 10 30 20 50 \n"
     ]
    }
   ],
   "source": [
    "cnt = int(input())\n",
    "seq = list(map(int, input().split()))"
   ]
  },
  {
   "cell_type": "code",
   "execution_count": 53,
   "metadata": {
    "scrolled": false
   },
   "outputs": [
    {
     "name": "stdout",
     "output_type": "stream",
     "text": [
      "seq 리스트 :  [10, 20, 10, 30, 20, 50]\n",
      "dp list 초기화 값 :  [1, 1, 1, 1, 1, 1] \n",
      "\n",
      "\n",
      " [10, 20, 10, 30, 20, 50]\n",
      " seq 리스트의 [0]번째 값 : (10)\n",
      "\n",
      "------------------------------\n",
      "\n",
      " [10, 20, 10, 30, 20, 50]\n",
      " seq 리스트의 [1]번째 값 : (20)\n",
      "\n",
      " (20)와 인덱스 [0] 번째 값인 10를 비교합니다.\n",
      "  (20)가 10보다 값이 큽니다.\n",
      "  dp 리스트 인덱스[1]번째 1 값을 2로 변경 합니다.\n",
      "  [1, 1, 1, 1, 1, 1]\n",
      "   ↓  ↓  ↓  ↓  ↓  ↓ \n",
      "  [1, 2, 1, 1, 1, 1]\n",
      "\n",
      "------------------------------\n",
      "\n",
      " [10, 20, 10, 30, 20, 50]\n",
      " seq 리스트의 [2]번째 값 : (10)\n",
      "\n",
      " (10)와 인덱스 [0] 번째 값인 10를 비교합니다.\n",
      " 현재 값이 기존 값보다 작거나 같습니다 pass.\n",
      "\n",
      " (10)와 인덱스 [1] 번째 값인 20를 비교합니다.\n",
      " 현재 값이 기존 값보다 작거나 같습니다 pass.\n",
      "\n",
      "------------------------------\n",
      "\n",
      " [10, 20, 10, 30, 20, 50]\n",
      " seq 리스트의 [3]번째 값 : (30)\n",
      "\n",
      " (30)와 인덱스 [0] 번째 값인 10를 비교합니다.\n",
      "  (30)가 10보다 값이 큽니다.\n",
      "  dp 리스트 인덱스[3]번째 1 값을 2로 변경 합니다.\n",
      "  [1, 2, 1, 1, 1, 1]\n",
      "   ↓  ↓  ↓  ↓  ↓  ↓ \n",
      "  [1, 2, 1, 2, 1, 1]\n",
      "\n",
      " (30)와 인덱스 [1] 번째 값인 20를 비교합니다.\n",
      "  (30)가 20보다 값이 큽니다.\n",
      "  dp 리스트 인덱스[3]번째 2 값을 3로 변경 합니다.\n",
      "  [1, 2, 1, 2, 1, 1]\n",
      "   ↓  ↓  ↓  ↓  ↓  ↓ \n",
      "  [1, 2, 1, 3, 1, 1]\n",
      "\n",
      " (30)와 인덱스 [2] 번째 값인 10를 비교합니다.\n",
      "  (30)가 10보다 값이 큽니다.\n",
      "  dp 리스트 인덱스[3]번째 3 값을 2로 변경 합니다.\n",
      "  [1, 2, 1, 3, 1, 1]\n",
      "   ↓  ↓  ↓  ↓  ↓  ↓ \n",
      "  [1, 2, 1, 3, 1, 1]\n",
      "\n",
      "------------------------------\n",
      "\n",
      " [10, 20, 10, 30, 20, 50]\n",
      " seq 리스트의 [4]번째 값 : (20)\n",
      "\n",
      " (20)와 인덱스 [0] 번째 값인 10를 비교합니다.\n",
      "  (20)가 10보다 값이 큽니다.\n",
      "  dp 리스트 인덱스[4]번째 1 값을 2로 변경 합니다.\n",
      "  [1, 2, 1, 3, 1, 1]\n",
      "   ↓  ↓  ↓  ↓  ↓  ↓ \n",
      "  [1, 2, 1, 3, 2, 1]\n",
      "\n",
      " (20)와 인덱스 [1] 번째 값인 20를 비교합니다.\n",
      " 현재 값이 기존 값보다 작거나 같습니다 pass.\n",
      "\n",
      " (20)와 인덱스 [2] 번째 값인 10를 비교합니다.\n",
      "  (20)가 10보다 값이 큽니다.\n",
      "  dp 리스트 인덱스[4]번째 2 값을 2로 변경 합니다.\n",
      "  [1, 2, 1, 3, 2, 1]\n",
      "   ↓  ↓  ↓  ↓  ↓  ↓ \n",
      "  [1, 2, 1, 3, 2, 1]\n",
      "\n",
      " (20)와 인덱스 [3] 번째 값인 30를 비교합니다.\n",
      " 현재 값이 기존 값보다 작거나 같습니다 pass.\n",
      "\n",
      "------------------------------\n",
      "\n",
      " [10, 20, 10, 30, 20, 50]\n",
      " seq 리스트의 [5]번째 값 : (50)\n",
      "\n",
      " (50)와 인덱스 [0] 번째 값인 10를 비교합니다.\n",
      "  (50)가 10보다 값이 큽니다.\n",
      "  dp 리스트 인덱스[5]번째 1 값을 2로 변경 합니다.\n",
      "  [1, 2, 1, 3, 2, 1]\n",
      "   ↓  ↓  ↓  ↓  ↓  ↓ \n",
      "  [1, 2, 1, 3, 2, 2]\n",
      "\n",
      " (50)와 인덱스 [1] 번째 값인 20를 비교합니다.\n",
      "  (50)가 20보다 값이 큽니다.\n",
      "  dp 리스트 인덱스[5]번째 2 값을 3로 변경 합니다.\n",
      "  [1, 2, 1, 3, 2, 2]\n",
      "   ↓  ↓  ↓  ↓  ↓  ↓ \n",
      "  [1, 2, 1, 3, 2, 3]\n",
      "\n",
      " (50)와 인덱스 [2] 번째 값인 10를 비교합니다.\n",
      "  (50)가 10보다 값이 큽니다.\n",
      "  dp 리스트 인덱스[5]번째 3 값을 2로 변경 합니다.\n",
      "  [1, 2, 1, 3, 2, 3]\n",
      "   ↓  ↓  ↓  ↓  ↓  ↓ \n",
      "  [1, 2, 1, 3, 2, 3]\n",
      "\n",
      " (50)와 인덱스 [3] 번째 값인 30를 비교합니다.\n",
      "  (50)가 30보다 값이 큽니다.\n",
      "  dp 리스트 인덱스[5]번째 3 값을 4로 변경 합니다.\n",
      "  [1, 2, 1, 3, 2, 3]\n",
      "   ↓  ↓  ↓  ↓  ↓  ↓ \n",
      "  [1, 2, 1, 3, 2, 4]\n",
      "\n",
      " (50)와 인덱스 [4] 번째 값인 20를 비교합니다.\n",
      "  (50)가 20보다 값이 큽니다.\n",
      "  dp 리스트 인덱스[5]번째 4 값을 3로 변경 합니다.\n",
      "  [1, 2, 1, 3, 2, 4]\n",
      "   ↓  ↓  ↓  ↓  ↓  ↓ \n",
      "  [1, 2, 1, 3, 2, 4]\n",
      "\n",
      "------------------------------\n",
      "4\n"
     ]
    }
   ],
   "source": [
    "dp = [1 for _ in range(cnt)]\n",
    "print('seq 리스트 : ', seq)\n",
    "print('dp list 초기화 값 : ', dp, '\\n')\n",
    "\n",
    "for i in range(cnt):\n",
    "    print(f'\\n {seq}\\n seq 리스트의 [{i}]번째 값 : ({seq[i]})\\n')\n",
    "    for j in range(i):\n",
    "        \n",
    "        print(f' ({seq[i]})와 인덱스 [{j}] 번째 값인 {seq[j]}를 비교합니다.')\n",
    "        if seq[j] < seq[i]:\n",
    "            print(f'  ({seq[i]})가 {seq[j]}보다 값이 큽니다.')\n",
    "            print(f'  dp 리스트 인덱스[{i}]번째 {dp[i]} 값을 {dp[j]+1}로 변경 합니다.\\n  {dp}')\n",
    "            dp[i] = max(dp[i], dp[j]+1)\n",
    "            print(f'   ↓  ↓  ↓  ↓  ↓  ↓ \\n  {dp}\\n')\n",
    "        else:\n",
    "            print(' 현재 값이 기존 값보다 작거나 같습니다 pass.\\n')\n",
    "    print('------------------------------')\n",
    "print(max(dp))"
   ]
  },
  {
   "cell_type": "code",
   "execution_count": null,
   "metadata": {},
   "outputs": [],
   "source": []
  }
 ],
 "metadata": {
  "kernelspec": {
   "display_name": "Python 3",
   "language": "python",
   "name": "python3"
  },
  "language_info": {
   "codemirror_mode": {
    "name": "ipython",
    "version": 3
   },
   "file_extension": ".py",
   "mimetype": "text/x-python",
   "name": "python",
   "nbconvert_exporter": "python",
   "pygments_lexer": "ipython3",
   "version": "3.8.5"
  },
  "toc": {
   "base_numbering": 1,
   "nav_menu": {},
   "number_sections": true,
   "sideBar": true,
   "skip_h1_title": false,
   "title_cell": "Table of Contents",
   "title_sidebar": "Contents",
   "toc_cell": false,
   "toc_position": {},
   "toc_section_display": true,
   "toc_window_display": false
  },
  "varInspector": {
   "cols": {
    "lenName": 16,
    "lenType": 16,
    "lenVar": 40
   },
   "kernels_config": {
    "python": {
     "delete_cmd_postfix": "",
     "delete_cmd_prefix": "del ",
     "library": "var_list.py",
     "varRefreshCmd": "print(var_dic_list())"
    },
    "r": {
     "delete_cmd_postfix": ") ",
     "delete_cmd_prefix": "rm(",
     "library": "var_list.r",
     "varRefreshCmd": "cat(var_dic_list()) "
    }
   },
   "types_to_exclude": [
    "module",
    "function",
    "builtin_function_or_method",
    "instance",
    "_Feature"
   ],
   "window_display": false
  }
 },
 "nbformat": 4,
 "nbformat_minor": 4
}
