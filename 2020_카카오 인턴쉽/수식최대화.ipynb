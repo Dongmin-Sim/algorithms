{
 "cells": [
  {
   "cell_type": "code",
   "execution_count": 5,
   "metadata": {},
   "outputs": [
    {
     "name": "stdout",
     "output_type": "stream",
     "text": [
      "['100-200', '300-500+20']\n",
      "['100-200', '300-500+20']\n"
     ]
    }
   ],
   "source": [
    "# 연산자 우선순위별 계산 함수\n",
    "def calc(prior, n, expression):\n",
    "    \n",
    "    # 우선순위가 가장 높으면 split된 숫자를 그대로 return \n",
    "    if n == 2:\n",
    "        return str(eval(expression))\n",
    "    \n",
    "    # 연산자 우선순위별 게산식\n",
    "    if prior[n] == '*':\n",
    "        return str(eval('*'.join([calc(prior, n+1, express) for express in expression.split('*')])))\n",
    "    \n",
    "    if prior[n] == '-':\n",
    "        return str(eval('-'.join([calc(prior, n+1, express) for express in expression.split('-')])))\n",
    "    \n",
    "    if prior[n] == '+':\n",
    "        return str(eval('+'.join([calc(prior, n+1, express) for express in expression.split('+')])))\n",
    "    \n",
    "\n",
    "\n",
    "def solution(expression):\n",
    "    answer = 0\n",
    "    priorities = [\n",
    "        ['+', '-', '*'],\n",
    "        ['+', '*', '-'],\n",
    "        ['-', '+', '*'],\n",
    "        ['-', '*', '+'],\n",
    "        ['*', '+', '-'],\n",
    "        ['*', '-', '+'],\n",
    "    ]\n",
    "    \n",
    "    for prior in priorities:\n",
    "        val = int(calc(prior, 0, expression))\n",
    "        answer = max(answer, abs(val))\n",
    "    return answer"
   ]
  }
 ],
 "metadata": {
  "kernelspec": {
   "display_name": "Python 3",
   "language": "python",
   "name": "python3"
  },
  "language_info": {
   "codemirror_mode": {
    "name": "ipython",
    "version": 3
   },
   "file_extension": ".py",
   "mimetype": "text/x-python",
   "name": "python",
   "nbconvert_exporter": "python",
   "pygments_lexer": "ipython3",
   "version": "3.8.5"
  },
  "toc": {
   "base_numbering": 1,
   "nav_menu": {},
   "number_sections": true,
   "sideBar": true,
   "skip_h1_title": false,
   "title_cell": "Table of Contents",
   "title_sidebar": "Contents",
   "toc_cell": false,
   "toc_position": {},
   "toc_section_display": true,
   "toc_window_display": false
  },
  "varInspector": {
   "cols": {
    "lenName": 16,
    "lenType": 16,
    "lenVar": 40
   },
   "kernels_config": {
    "python": {
     "delete_cmd_postfix": "",
     "delete_cmd_prefix": "del ",
     "library": "var_list.py",
     "varRefreshCmd": "print(var_dic_list())"
    },
    "r": {
     "delete_cmd_postfix": ") ",
     "delete_cmd_prefix": "rm(",
     "library": "var_list.r",
     "varRefreshCmd": "cat(var_dic_list()) "
    }
   },
   "types_to_exclude": [
    "module",
    "function",
    "builtin_function_or_method",
    "instance",
    "_Feature"
   ],
   "window_display": false
  }
 },
 "nbformat": 4,
 "nbformat_minor": 4
}
