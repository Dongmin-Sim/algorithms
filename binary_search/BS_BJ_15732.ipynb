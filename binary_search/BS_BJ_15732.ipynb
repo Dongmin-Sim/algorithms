{
 "cells": [
  {
   "cell_type": "markdown",
   "metadata": {},
   "source": [
    "## 백준온라인 저지 0000 번 문제 : \n",
    "문제 출처 : https://www.acmicpc.net/problem/2644"
   ]
  },
  {
   "cell_type": "markdown",
   "metadata": {},
   "source": [
    "## 제출 코드\n",
    "```python\n",
    "\n",
    "```"
   ]
  },
  {
   "cell_type": "markdown",
   "metadata": {},
   "source": [
    "---\n",
    "## 풀이 코드"
   ]
  },
  {
   "cell_type": "markdown",
   "metadata": {},
   "source": [
    "결정문제 = 파라메트릭 서치\n",
    "> 최적화 문제(문제의 상황을 만족하는 특정 변수의 최솟값, 최댓값을 구하는 문제)를 결정문제로 바꾸어 푸는 것\n",
    "\n",
    "\n",
    "## 결정문제란? \n",
    "어떠한 문제의 답을 구해야 할 때, \"답을 임의의 지점 a로 정했을 때 반환값이 답을 만족하는가?\" 에 대한 답을 구하는 기법\n",
    "\n",
    "\"답을 임의의 지점 a로 정했을 때 규칙을 만족하는 도토리의 개수가 주어진 도토리 개수를 만족하는가?\"\n",
    "만족한다 : 구간을 줄여가며(뒤쪽) 다음 지점 a가 답을 만족하는지 구함.\n",
    "만족한다 : 구간을 줄여가며(앞쪽) 다음 지점 a가 답을 만족하는지 구함.\n",
    "\n",
    "\"상자의 번호를 i로 정했을때 $(low<=i<=high)$ 구간(low, i) or (i, high)의 상자에 도토리를 전부 집어넣을 수 있는가?\n",
    "\n"
   ]
  },
  {
   "cell_type": "code",
   "execution_count": 23,
   "metadata": {
    "scrolled": false
   },
   "outputs": [
    {
     "name": "stdout",
     "output_type": "stream",
     "text": [
      "200 2 5\n",
      "100 150 10\n",
      "110 150 15\n",
      "low : 1, mid:500000, high:1000000\n",
      "total : 6\n",
      "total : 9\n",
      "뒤를 줄임\n",
      "\n",
      "low : 1, mid:250000, high:499999\n",
      "total : 6\n",
      "total : 9\n",
      "뒤를 줄임\n",
      "\n",
      "low : 1, mid:125000, high:249999\n",
      "total : 6\n",
      "total : 9\n",
      "뒤를 줄임\n",
      "\n",
      "low : 1, mid:62500, high:124999\n",
      "total : 6\n",
      "total : 9\n",
      "뒤를 줄임\n",
      "\n",
      "low : 1, mid:31250, high:62499\n",
      "total : 6\n",
      "total : 9\n",
      "뒤를 줄임\n",
      "\n",
      "low : 1, mid:15625, high:31249\n",
      "total : 6\n",
      "total : 9\n",
      "뒤를 줄임\n",
      "\n",
      "low : 1, mid:7812, high:15624\n",
      "total : 6\n",
      "total : 9\n",
      "뒤를 줄임\n",
      "\n",
      "low : 1, mid:3906, high:7811\n",
      "total : 6\n",
      "total : 9\n",
      "뒤를 줄임\n",
      "\n",
      "low : 1, mid:1953, high:3905\n",
      "total : 6\n",
      "total : 9\n",
      "뒤를 줄임\n",
      "\n",
      "low : 1, mid:976, high:1952\n",
      "total : 6\n",
      "total : 9\n",
      "뒤를 줄임\n",
      "\n",
      "low : 1, mid:488, high:975\n",
      "total : 6\n",
      "total : 9\n",
      "뒤를 줄임\n",
      "\n",
      "low : 1, mid:244, high:487\n",
      "total : 6\n",
      "total : 9\n",
      "뒤를 줄임\n",
      "\n",
      "low : 1, mid:122, high:243\n",
      "total : 3\n",
      "total : 4\n",
      "앞을 줄임\n",
      "\n",
      "low : 123, mid:183, high:243\n",
      "total : 6\n",
      "total : 9\n",
      "뒤를 줄임\n",
      "\n",
      "low : 123, mid:152, high:182\n",
      "total : 6\n",
      "total : 9\n",
      "뒤를 줄임\n",
      "\n",
      "low : 123, mid:137, high:151\n",
      "total : 4\n",
      "total : 6\n",
      "뒤를 줄임\n",
      "\n",
      "low : 123, mid:129, high:136\n",
      "total : 3\n",
      "total : 5\n",
      "뒤를 줄임\n",
      "\n",
      "low : 123, mid:125, high:128\n",
      "total : 3\n",
      "total : 5\n",
      "뒤를 줄임\n",
      "\n",
      "low : 123, mid:123, high:124\n",
      "total : 3\n",
      "total : 4\n",
      "앞을 줄임\n",
      "\n",
      "low : 124, mid:124, high:124\n",
      "total : 3\n",
      "total : 4\n",
      "앞을 줄임\n",
      "\n",
      "125 124 124\n",
      "125\n"
     ]
    }
   ],
   "source": [
    "N, K, D = map(int, input().split())\n",
    "rules = [list(map(int, input().split())) for _ in range(K)]\n",
    "\n",
    "def solution():\n",
    "    low, high = 1, 1000000\n",
    "    answer = 0\n",
    "    \n",
    "    while low <= high:\n",
    "        mid = (low + high) // 2\n",
    "        print(f\"low : {low}, mid:{mid}, high:{high}\")\n",
    "        # 만약 도토리의 개수가 해당 구간안에 모두 들어가면\n",
    "        if dotori(mid) >= D:\n",
    "            answer = mid\n",
    "            # 뒤를 줄임 : \n",
    "            high = mid - 1\n",
    "            print(\"뒤를 줄임\\n\")\n",
    "        # 만양 도토리의 개수가 해당 구간안에 들어가지 못한다면\n",
    "        else:\n",
    "            # 앞을 줄임 : \n",
    "            low = mid + 1\n",
    "            print(\"앞을 줄임\\n\")\n",
    "    print(low, mid, high)\n",
    "    return answer\n",
    "\n",
    "\n",
    "def dotori(box):\n",
    "    '''\n",
    "    주어진 범위 & 정답 box의 번호에서 해당 rule에 맞는 도토리의 총 개수를 구하는 함수\n",
    "    '''\n",
    "    total = 0\n",
    "    # 규칙마다 개수를 셈\n",
    "    for 100, 150, 10 in rules:\n",
    "        temp = min(150, box)\n",
    "        if start <= temp:\n",
    "            # 현재 규칙에 맞는 도토리의 개수 구하기\n",
    "            doto_cnt = ((temp - start) // step + 1)\n",
    "            total += doto_cnt\n",
    "            print(f'total : {total}')\n",
    "    return total\n",
    "\n",
    "\n",
    "print(solution())"
   ]
  }
 ],
 "metadata": {
  "kernelspec": {
   "display_name": "Python 3",
   "language": "python",
   "name": "python3"
  },
  "language_info": {
   "codemirror_mode": {
    "name": "ipython",
    "version": 3
   },
   "file_extension": ".py",
   "mimetype": "text/x-python",
   "name": "python",
   "nbconvert_exporter": "python",
   "pygments_lexer": "ipython3",
   "version": "3.8.5"
  },
  "toc": {
   "base_numbering": 1,
   "nav_menu": {},
   "number_sections": true,
   "sideBar": true,
   "skip_h1_title": false,
   "title_cell": "Table of Contents",
   "title_sidebar": "Contents",
   "toc_cell": false,
   "toc_position": {},
   "toc_section_display": true,
   "toc_window_display": false
  },
  "varInspector": {
   "cols": {
    "lenName": 16,
    "lenType": 16,
    "lenVar": 40
   },
   "kernels_config": {
    "python": {
     "delete_cmd_postfix": "",
     "delete_cmd_prefix": "del ",
     "library": "var_list.py",
     "varRefreshCmd": "print(var_dic_list())"
    },
    "r": {
     "delete_cmd_postfix": ") ",
     "delete_cmd_prefix": "rm(",
     "library": "var_list.r",
     "varRefreshCmd": "cat(var_dic_list()) "
    }
   },
   "types_to_exclude": [
    "module",
    "function",
    "builtin_function_or_method",
    "instance",
    "_Feature"
   ],
   "window_display": false
  }
 },
 "nbformat": 4,
 "nbformat_minor": 4
}