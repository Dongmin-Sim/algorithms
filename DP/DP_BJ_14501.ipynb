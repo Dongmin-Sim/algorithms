{
 "cells": [
  {
   "cell_type": "markdown",
   "metadata": {},
   "source": [
    "## 백준온라인 저지 14501 번 문제 : 퇴사\n",
    "문제 출처 : https://www.acmicpc.net/problem/14501\n",
    "\n",
    "상담에 소요되는 기간을 고려하여 퇴사 전 얻을 수 있는 최대 이익을 구하는 문제\n",
    "\n",
    "* 다이나믹 프로그래밍 (최적 부분 구조 & 중복 부분 문제) 해결 가능 조건\n",
    "    * 큰 문제를 작은 문제로 나눌 수 있는지? (중복 부분 문제)\n",
    "    * 작은 문제에서 구한 해결책이 작은 문제를 포함하는 큰 문제에서도 적용이 가능한지? (최적 부분 구조)\n",
    "\n",
    "* 각 일차별로 얻는 이익에 대해 알고 있어야 하므로 부분 문제에 대한 답을 이용하여 기존의 문제를 해결할 수 있으므로, 최적 부분구조가 존재함. 역시 각 상담에 대한 이익을 계산해야하므로 중복 부분문제또한 존재하기 때문에 다이나믹 프로그램으로 해결이 가능  \n",
    "    * 1일차 상담 + 4일차 상담 + 5일차 상담   \n",
    "    * 2일차 상담  \n",
    "    * 3일차 상담 + 4일차 상담 + 5일차 상담  \n"
   ]
  },
  {
   "cell_type": "code",
   "execution_count": 1,
   "metadata": {},
   "outputs": [
    {
     "name": "stdout",
     "output_type": "stream",
     "text": [
      "3\n"
     ]
    }
   ],
   "source": [
    "def fibo(x):\n",
    "    if x == 1 or x == 2:\n",
    "        return 1\n",
    "    return fibo(x - 1) + fibo(x - 2)\n",
    "\n",
    "print(fibo(4))"
   ]
  },
  {
   "cell_type": "code",
   "execution_count": null,
   "metadata": {},
   "outputs": [],
   "source": []
  },
  {
   "cell_type": "code",
   "execution_count": null,
   "metadata": {},
   "outputs": [],
   "source": []
  },
  {
   "cell_type": "markdown",
   "metadata": {},
   "source": [
    "## 백준 제출 코드"
   ]
  },
  {
   "cell_type": "code",
   "execution_count": null,
   "metadata": {},
   "outputs": [],
   "source": []
  },
  {
   "cell_type": "markdown",
   "metadata": {},
   "source": [
    "## 풀이 코드"
   ]
  }
 ],
 "metadata": {
  "kernelspec": {
   "display_name": "Python 3",
   "language": "python",
   "name": "python3"
  },
  "language_info": {
   "codemirror_mode": {
    "name": "ipython",
    "version": 3
   },
   "file_extension": ".py",
   "mimetype": "text/x-python",
   "name": "python",
   "nbconvert_exporter": "python",
   "pygments_lexer": "ipython3",
   "version": "3.8.5"
  },
  "toc": {
   "base_numbering": 1,
   "nav_menu": {},
   "number_sections": true,
   "sideBar": true,
   "skip_h1_title": false,
   "title_cell": "Table of Contents",
   "title_sidebar": "Contents",
   "toc_cell": false,
   "toc_position": {},
   "toc_section_display": true,
   "toc_window_display": false
  },
  "varInspector": {
   "cols": {
    "lenName": 16,
    "lenType": 16,
    "lenVar": 40
   },
   "kernels_config": {
    "python": {
     "delete_cmd_postfix": "",
     "delete_cmd_prefix": "del ",
     "library": "var_list.py",
     "varRefreshCmd": "print(var_dic_list())"
    },
    "r": {
     "delete_cmd_postfix": ") ",
     "delete_cmd_prefix": "rm(",
     "library": "var_list.r",
     "varRefreshCmd": "cat(var_dic_list()) "
    }
   },
   "types_to_exclude": [
    "module",
    "function",
    "builtin_function_or_method",
    "instance",
    "_Feature"
   ],
   "window_display": false
  }
 },
 "nbformat": 4,
 "nbformat_minor": 4
}
