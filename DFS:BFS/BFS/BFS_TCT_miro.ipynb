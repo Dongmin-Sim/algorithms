{
 "cells": [
  {
   "cell_type": "markdown",
   "metadata": {},
   "source": [
    "## 이코테 실전문제 : 미로탈출\n",
    "문제 출처 : https://www.youtube.com/watch?v=7C9RgOcvkvo&list=PLRx0vPvlEmdAghTr5mXQxGpHjWqSz0dgC&index=3"
   ]
  },
  {
   "cell_type": "markdown",
   "metadata": {},
   "source": [
    "## 제출 코드\n",
    "```python\n",
    "from collections import deque\n",
    "\n",
    "n, m = map(int, input().split())\n",
    "\n",
    "graph = []\n",
    "for i in range(n):\n",
    "    graph.append(list(map(int, input())))\n",
    "\n",
    "    \n",
    "dx = [-1, 1, 0, 0]\n",
    "dy = [0, 0, -1, 1]\n",
    "    \n",
    "    \n",
    "def bfs(x, y):\n",
    "    queue = deque()\n",
    "    queue.append((x, y))\n",
    "    while queue:\n",
    "        x, y = queue.popleft()\n",
    "        for i in range(4):\n",
    "            nx = x + dx[i]\n",
    "            ny = y + dy[i]\n",
    "            if 0 > nx or nx > n or 0 > ny or ny > m:\n",
    "                continue\n",
    "            elif graph[nx][ny] == 0:\n",
    "                continue\n",
    "            \n",
    "            if graph[nx][ny] == 1:\n",
    "                graph[nx][ny] = graph[x][y] + 1\n",
    "                queue.append((nx, ny))\n",
    "    \n",
    "    return graph[n-1][m-1]\n",
    "\n",
    "\n",
    "print(bfs(0, 0))\n",
    "```"
   ]
  },
  {
   "cell_type": "markdown",
   "metadata": {},
   "source": [
    "---\n",
    "## 풀이 코드"
   ]
  },
  {
   "cell_type": "markdown",
   "metadata": {},
   "source": [
    "### 입력\n",
    "- 첫째 줄에 두 정수 N, M(4≤ N, M ≤ 200)이 주어집니다.\n",
    "- 다음 N개의 줄에는 각각 M개의 정수(0혹은 1)로 미로가 주어진다.\n",
    "- 각각의 수들은 공백없이 붙어서 입력으로 제시된다.\n",
    "- 또한 시작칸과 마지막 칸은 항상 1이다.\n",
    "\n",
    "### 출력\n",
    "- 첫째 줄에 최소 이동 칸의 개수를 출력한다.\n",
    "\n",
    "\n",
    "### 문제 접근\n",
    "> bfs 는 최단거리를 탐색하는데 사용할 수 있는 알고리즘임. 1, 1 부터 bfs 를 수행하여 모든 노드의 최단 거리 값을 기록하면 해결할 수 있음.\n",
    "\n",
    "\n",
    "### 문제 해설\n",
    "1. 맨 처음에 (1, 1) 의 위치에서 시작하며, (1, 1)의 값은 항상 1이라고 문제에서 언급됨.\n",
    "2. (1, 1) 좌표에서 상, 하, 좌, 우로 탐색을 진행하면, 바로 옆 노드인 (1, 2) 위치의 노드를 방문하게 되고, 새롭게 방문하는(1, 2) 노드의 값을 2로 바꾸게 됨.\n",
    "3. 마찬가지로 bfs 를 계속 수행하면, 결과적으로 최단경로의 값들이 1씩 증가하는 형태로 변경됨.\n",
    "\n",
    "참고 : 첫번째 위치의 값이 1이기 때문에 다시 방문되어 3으로 변경될 수 있으나 문제는 가장 오른쪽 아래 위치만을 요구하기 때문에 문제를 풀이하는 목적에서는 이것까지 고려하지 않음."
   ]
  },
  {
   "cell_type": "code",
   "execution_count": 2,
   "metadata": {},
   "outputs": [
    {
     "name": "stdout",
     "output_type": "stream",
     "text": [
      "5 6 \n",
      "101010\n",
      "111111\n",
      "000001\n",
      "111111\n",
      "111111\n",
      "10\n"
     ]
    }
   ],
   "source": [
    "from collections import deque\n",
    "# N, M을 공백을 기준으로 구분하여 입력 받기.\n",
    "n, m = map(int, input().split())\n",
    "\n",
    "# 2차원 리스트의 맵 정보 입력 받기\n",
    "graph = []\n",
    "for i in range(n):\n",
    "    graph.append(list(map(int, input())))\n",
    "\n",
    "# 이동할 4가지 방향 정의\n",
    "dx = [-1, 1, 0, 0]\n",
    "dy = [0, 0, -1, 1]\n",
    "    \n",
    "# bfs 함수정의\n",
    "def bfs(x, y):\n",
    "    # deque()라이브러리로 queue 구현\n",
    "    queue = deque()\n",
    "    queue.append((x, y)) # 초기값 좌표 설정\n",
    "    while queue:  # 큐가 빌때까지 반복\n",
    "        x, y = queue.popleft()  # 큐의 첫번째 요소 반환\n",
    "        for i in range(4):  # 동서남북 탐색\n",
    "            nx = x + dx[i]  \n",
    "            ny = y + dy[i]\n",
    "            \n",
    "            # 미로를 벗어난 경우 무시\n",
    "            if 0 > nx or nx >= n or 0 > ny or ny >= m:\n",
    "                continue\n",
    "            # 괴물이 있는 경우 무시\n",
    "            if graph[nx][ny] == 0:\n",
    "                continue\n",
    "            # 해당 노드가 처음 방문되는 것이라면\n",
    "            if graph[nx][ny] == 1:\n",
    "                graph[nx][ny] = graph[x][y] + 1  # 새롭게 방문하는 노드에 이전 노드의 값 + 1 한 값을 입력 (최단거리)\n",
    "                queue.append((nx, ny))  # 방문하는 노드를 큐에 넣음.\n",
    "    \n",
    "    # 마지막 노드에 입력되어 있는 거리를 반환\n",
    "    return graph[n-1][m-1]\n",
    "\n",
    "\n",
    "print(bfs(0, 0))"
   ]
  }
 ],
 "metadata": {
  "kernelspec": {
   "display_name": "Python 3",
   "language": "python",
   "name": "python3"
  },
  "language_info": {
   "codemirror_mode": {
    "name": "ipython",
    "version": 3
   },
   "file_extension": ".py",
   "mimetype": "text/x-python",
   "name": "python",
   "nbconvert_exporter": "python",
   "pygments_lexer": "ipython3",
   "version": "3.8.5"
  },
  "toc": {
   "base_numbering": 1,
   "nav_menu": {},
   "number_sections": true,
   "sideBar": true,
   "skip_h1_title": false,
   "title_cell": "Table of Contents",
   "title_sidebar": "Contents",
   "toc_cell": false,
   "toc_position": {},
   "toc_section_display": true,
   "toc_window_display": false
  },
  "varInspector": {
   "cols": {
    "lenName": 16,
    "lenType": 16,
    "lenVar": 40
   },
   "kernels_config": {
    "python": {
     "delete_cmd_postfix": "",
     "delete_cmd_prefix": "del ",
     "library": "var_list.py",
     "varRefreshCmd": "print(var_dic_list())"
    },
    "r": {
     "delete_cmd_postfix": ") ",
     "delete_cmd_prefix": "rm(",
     "library": "var_list.r",
     "varRefreshCmd": "cat(var_dic_list()) "
    }
   },
   "types_to_exclude": [
    "module",
    "function",
    "builtin_function_or_method",
    "instance",
    "_Feature"
   ],
   "window_display": false
  }
 },
 "nbformat": 4,
 "nbformat_minor": 4
}
