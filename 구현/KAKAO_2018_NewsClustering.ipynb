{
 "cells": [
  {
   "cell_type": "markdown",
   "metadata": {},
   "source": [
    "## 카카오 2018 블라인드 채용 : 뉴스 클러스터링"
   ]
  },
  {
   "cell_type": "code",
   "execution_count": 76,
   "metadata": {},
   "outputs": [],
   "source": [
    "def solution(str1, str2):\n",
    "\n",
    "    # 두 글자씩 다중집합 원소 만들기\n",
    "    list1 = [str1[str:str+2] for str in range(len(str1)-1)]\n",
    "    list2 = [str2[str:str+2] for str in range(len(str2)-1)]\n",
    "\n",
    "    # 숫자, 특수문자, 공백 삭제\n",
    "    group_a = [i.lower() for i in list1 if i.isalpha()]\n",
    "    group_b = [i.lower() for i in list2 if i.isalpha()]\n",
    "    \n",
    "    # 세트\n",
    "    a_set, b_set = set(group_a), set(group_b)\n",
    "\n",
    "    # 교집합 \n",
    "    inter_list = []\n",
    "    \n",
    "    inter_set = a_set & b_set\n",
    "    for i in inter_set:\n",
    "        for _ in range(min(group_a.count(i), group_b.count(i))):\n",
    "            inter_list.append(i)\n",
    "            \n",
    "    # 합집합\n",
    "    sum_list = []\n",
    "    \n",
    "    sum_set = list(a_set.union(b_set))\n",
    "    for i in sum_set:\n",
    "        for _ in range(max(group_a.count(i), group_b.count(i))):\n",
    "            sum_list.append(i)\n",
    "\n",
    "    # 교집합, 합집합 원소 수\n",
    "    group_inter, group_sum = len(inter_list), len(sum_list)\n",
    "    \n",
    "    # 자카드 유사도 계산 (두 집합이 공집합이면 1 출력)\n",
    "    if (group_inter == 0) and (group_sum == 0):\n",
    "        jakad_sim = 1\n",
    "    else:\n",
    "        jakad_sim = (group_inter / group_sum)\n",
    "    \n",
    "    return int(jakad_sim * 65536)"
   ]
  },
  {
   "cell_type": "code",
   "execution_count": 77,
   "metadata": {},
   "outputs": [
    {
     "name": "stdout",
     "output_type": "stream",
     "text": [
      "정답입니다.\n",
      "정답입니다.\n",
      "정답입니다.\n",
      "정답입니다.\n"
     ]
    }
   ],
   "source": [
    "print('실행한 결괏값 {}이(가) 기댓값 {}와(과) 다릅니다.'.format(solution('FRANCE', 'french'), 16384) if solution('FRANCE', 'french') != 16384 else '정답입니다.')\n",
    "print('실행한 결괏값 {}이(가) 기댓값 {}와(과) 다릅니다.'.format(solution('handshake', 'shake hands'), 65536) if solution('handshake', 'shake hands') != 65536 else '정답입니다.')\n",
    "print('실행한 결괏값 {}이(가) 기댓값 {}와(과) 다릅니다.'.format(solution('aa1+aa2', 'AAAA12'), 43690) if solution('aa1+aa2', 'AAAA12') != 43690 else '정답입니다.')\n",
    "print('실행한 결괏값 {}이(가) 기댓값 {}와(과) 다릅니다.'.format(solution('E=M*C^2', 'e=m*c^2'), 65536) if solution('E=M*C^2', 'e=m*c^2') != 65536 else '정답입니다.')"
   ]
  },
  {
   "cell_type": "markdown",
   "metadata": {},
   "source": [
    "다듬은 코드"
   ]
  },
  {
   "cell_type": "code",
   "execution_count": null,
   "metadata": {},
   "outputs": [],
   "source": [
    "def solution(str1, str2):\n",
    "\n",
    "    # 두 글자씩 다중집합 원소 만들기 & 공백, 숫자, 특수문자 제거\n",
    "    list1 = [str1[str:str+2] for str in range(len(str1)-1) if str1[str:str+2].isalpha()]\n",
    "    list2 = [str2[str:str+2] for str in range(len(str2)-1) if str2[str:str+2].isalpha()]\n",
    "    \n",
    "    a_set, b_set = set(group_a), set(group_b)\n",
    "    \n",
    "    # 교집합 \n",
    "    inter_list = []\n",
    "    \n",
    "    inter_set = a_set & b_set\n",
    "    for i in inter_set:\n",
    "        for _ in range(min(group_a.count(i), group_b.count(i))):\n",
    "            inter_list.append(i)\n",
    "            \n",
    "    # 합집합\n",
    "    sum_list = []\n",
    "    \n",
    "    sum_set = list(a_set.union(b_set))\n",
    "    for i in sum_set:\n",
    "        for _ in range(max(group_a.count(i), group_b.count(i))):\n",
    "            sum_list.append(i)\n",
    "        \n",
    "\n",
    "    group_inter, group_sum = len(inter_list), len(sum_list)\n",
    "\n",
    "    \n",
    "    # 자카드 유사도 계산 (두 집합이 공집합이면 1 출력)\n",
    "    if (group_inter == 0) and (group_sum == 0):\n",
    "        jakad_sim = 1\n",
    "    else:\n",
    "        jakad_sim = (group_inter / group_sum)\n",
    "    \n",
    "    return int(jakad_sim * 65536)"
   ]
  },
  {
   "cell_type": "code",
   "execution_count": 1,
   "metadata": {},
   "outputs": [
    {
     "name": "stdout",
     "output_type": "stream",
     "text": [
      "['fr', 'nc']\n",
      "['ce', 'nc', 'en', 'an', 're', 'ch', 'fr', 'ra']\n",
      "16384\n"
     ]
    }
   ],
   "source": [
    "str1 = 'FRANCE'\n",
    "str2 = 'french'\n",
    "\n",
    "list1 = [str1[str:str+2] for str in range(len(str1)-1)]\n",
    "list2 = [str2[str:str+2] for str in range(len(str2)-1)]\n",
    "\n",
    "# 숫자, 특수문자, 공백 삭제\n",
    "group_a = [i.lower() for i in list1 if i.isalpha()]\n",
    "group_b = [i.lower() for i in list2 if i.isalpha()]\n",
    "       \n",
    "a_set, b_set = set(group_a), set(group_b)\n",
    "    \n",
    "# 교집합 group_inter \n",
    "inter_list = []\n",
    "    \n",
    "inter_set = a_set & b_set\n",
    "for i in inter_set:\n",
    "    for _ in range(min(group_a.count(i), group_b.count(i))):\n",
    "        inter_list.append(i)\n",
    "# 합집합\n",
    "sum_list = []\n",
    "    \n",
    "sum_set = list(a_set.union(b_set))\n",
    "for i in sum_set:\n",
    "    for _ in range(max(group_a.count(i), group_b.count(i))):\n",
    "        sum_list.append(i)\n",
    "        \n",
    "\n",
    "group_inter = len(inter_list)\n",
    "group_sum = len(sum_list)\n",
    "    \n",
    "print(inter_list)\n",
    "print(sum_list)\n",
    "    # 자카드 유사도 계산 (두 집합이 공집합이면 1 출력)\n",
    "if (group_inter == 0) and (group_sum == 0):\n",
    "    jakad_sim = 1\n",
    "else:\n",
    "    jakad_sim = (group_inter / group_sum)\n",
    "    \n",
    "print(int(jakad_sim * 65536))"
   ]
  },
  {
   "cell_type": "code",
   "execution_count": null,
   "metadata": {},
   "outputs": [],
   "source": [
    "def solution(str1, str2):\n",
    "\n",
    "    # 두 글자씩 다중집합 원소 만들기 & 공백, 숫자, 특수문자 제거\n",
    "    list1 = [str1[str:str+2] for str in range(len(str1)-1) if str1[str:str+2].isalpha()]\n",
    "    list2 = [str2[str:str+2] for str in range(len(str2)-1) if str2[str:str+2].isalpha()]\n",
    "    \n",
    "    "
   ]
  }
 ],
 "metadata": {
  "kernelspec": {
   "display_name": "Python 3",
   "language": "python",
   "name": "python3"
  },
  "language_info": {
   "codemirror_mode": {
    "name": "ipython",
    "version": 3
   },
   "file_extension": ".py",
   "mimetype": "text/x-python",
   "name": "python",
   "nbconvert_exporter": "python",
   "pygments_lexer": "ipython3",
   "version": "3.8.5"
  },
  "toc": {
   "base_numbering": 1,
   "nav_menu": {},
   "number_sections": true,
   "sideBar": true,
   "skip_h1_title": false,
   "title_cell": "Table of Contents",
   "title_sidebar": "Contents",
   "toc_cell": false,
   "toc_position": {},
   "toc_section_display": true,
   "toc_window_display": false
  },
  "varInspector": {
   "cols": {
    "lenName": 16,
    "lenType": 16,
    "lenVar": 40
   },
   "kernels_config": {
    "python": {
     "delete_cmd_postfix": "",
     "delete_cmd_prefix": "del ",
     "library": "var_list.py",
     "varRefreshCmd": "print(var_dic_list())"
    },
    "r": {
     "delete_cmd_postfix": ") ",
     "delete_cmd_prefix": "rm(",
     "library": "var_list.r",
     "varRefreshCmd": "cat(var_dic_list()) "
    }
   },
   "types_to_exclude": [
    "module",
    "function",
    "builtin_function_or_method",
    "instance",
    "_Feature"
   ],
   "window_display": false
  }
 },
 "nbformat": 4,
 "nbformat_minor": 4
}
