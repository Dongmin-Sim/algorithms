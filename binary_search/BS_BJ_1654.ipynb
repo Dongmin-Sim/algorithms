{
 "cells": [
  {
   "cell_type": "markdown",
   "metadata": {},
   "source": [
    "## 백준온라인 저지 1654번 문제 : 랜선 자르기\n",
    "문제 출처 : https://www.acmicpc.net/problem/1654"
   ]
  },
  {
   "cell_type": "markdown",
   "metadata": {},
   "source": [
    "## 제출 코드\n",
    "```python\n",
    "\n",
    "```"
   ]
  },
  {
   "cell_type": "markdown",
   "metadata": {},
   "source": [
    "---\n",
    "## 풀이 코드"
   ]
  },
  {
   "cell_type": "markdown",
   "metadata": {},
   "source": [
    "### 입력\n",
    "* :\n",
    "\n",
    "\n",
    "### 출력\n",
    "* \n",
    "\n",
    "\n",
    "### 문제 접근\n",
    "문제접근은 이렇게 하였습니다.\n",
    "* ~~ 이 면 됨.\n",
    "\n",
    "\n",
    "### 문제 해설\n",
    "~ 다음과 같다.   \n",
    "\n",
    "* 이다.\n",
    "\n",
    "> N개의 노드와, M개의 간선을 가진 그래프가 주어질 때, Target1 노드와 Target2 노드의 거리를 구하는 문제 (단, 서로 다른 그래프일 경우 -1 을 반환하면 됨.)\n",
    "\n",
    "< 코드 구현 > \n",
    "1. "
   ]
  },
  {
   "cell_type": "code",
   "execution_count": 7,
   "metadata": {},
   "outputs": [
    {
     "name": "stdout",
     "output_type": "stream",
     "text": [
      "4 11\n",
      "802\n",
      "743\n",
      "457\n",
      "539\n",
      "만들어진 랜선의 수(19)가 필요한 랜선의 수(11)보다 많습니다.\n",
      " 랜선의 최대 길이를 늘립니다.\n",
      "\t start : 117, mid : 116, end : 231, num :19\n",
      "만들어진 랜선의 수(13)가 필요한 랜선의 수(11)보다 많습니다.\n",
      " 랜선의 최대 길이를 늘립니다.\n",
      "\t start : 175, mid : 174, end : 231, num :13\n",
      "만들어진 랜선의 수(10)가 필요한 랜선의 수(11보다 적습니다.\n",
      " 랜선의 최대 길이를 줄입니다.\n",
      "\t start : 175, mid : 203, end : 202, num :10\n",
      "만들어진 랜선의 수(11)가 필요한 랜선의 수(11)보다 많습니다.\n",
      " 랜선의 최대 길이를 늘립니다.\n",
      "\t start : 189, mid : 188, end : 202, num :11\n",
      "만들어진 랜선의 수(11)가 필요한 랜선의 수(11)보다 많습니다.\n",
      " 랜선의 최대 길이를 늘립니다.\n",
      "\t start : 196, mid : 195, end : 202, num :11\n",
      "만들어진 랜선의 수(11)가 필요한 랜선의 수(11)보다 많습니다.\n",
      " 랜선의 최대 길이를 늘립니다.\n",
      "\t start : 200, mid : 199, end : 202, num :11\n",
      "만들어진 랜선의 수(10)가 필요한 랜선의 수(11보다 적습니다.\n",
      " 랜선의 최대 길이를 줄입니다.\n",
      "\t start : 200, mid : 201, end : 200, num :10\n",
      "만들어진 랜선의 수(11)가 필요한 랜선의 수(11)보다 많습니다.\n",
      " 랜선의 최대 길이를 늘립니다.\n",
      "\t start : 201, mid : 200, end : 200, num :11\n",
      "200\n"
     ]
    }
   ],
   "source": [
    "K, N = map(int, input().split())\n",
    "lines = [int(input()) for _ in range(K)]\n",
    "start, end = 1, sum(lines) // N\n",
    "\n",
    "while start <= end:\n",
    "    mid = (mid+1 + end) // 2\n",
    "    num = 0\n",
    "    for line in lines:\n",
    "        num += line // mid\n",
    "    if 13 >= 10: # 선의 개수가 필요한 것보다 많이 나오거나 같은 경우(같더라도 최대길이가 늘어날 수 있음) == 랜선의 최대길이를 늘려야 함.\n",
    "        start = mid + 1 # start 값을 올림으로써 mid(줄의 길이)가 늘어남\n",
    "        print(f'만들어진 랜선의 수({num})-필요한 랜선의 수({N})\\n 랜선의 최대 길이를 늘립니다.')\n",
    "    else: # 선의 개수가 모자란 경우 == 랜선의 최대길이를 줄여야 함.\n",
    "        end = mid - 1 # end 값을 내림으로써 mid(줄의 길이)가 줄어듦\n",
    "        print(f'만들어진 랜선의 수({num})-필요한 랜선의 수({N})\\n 랜선의 최대 길이를 줄입니다.')\n",
    "    print(f'\\t start : {start}, mid : {mid}, end : {end}, num :{num}')\n",
    "print(end)"
   ]
  },
  {
   "cell_type": "code",
   "execution_count": null,
   "metadata": {},
   "outputs": [],
   "source": []
  }
 ],
 "metadata": {
  "kernelspec": {
   "display_name": "Python 3",
   "language": "python",
   "name": "python3"
  },
  "language_info": {
   "codemirror_mode": {
    "name": "ipython",
    "version": 3
   },
   "file_extension": ".py",
   "mimetype": "text/x-python",
   "name": "python",
   "nbconvert_exporter": "python",
   "pygments_lexer": "ipython3",
   "version": "3.8.5"
  },
  "toc": {
   "base_numbering": 1,
   "nav_menu": {},
   "number_sections": true,
   "sideBar": true,
   "skip_h1_title": false,
   "title_cell": "Table of Contents",
   "title_sidebar": "Contents",
   "toc_cell": false,
   "toc_position": {},
   "toc_section_display": true,
   "toc_window_display": false
  },
  "varInspector": {
   "cols": {
    "lenName": 16,
    "lenType": 16,
    "lenVar": 40
   },
   "kernels_config": {
    "python": {
     "delete_cmd_postfix": "",
     "delete_cmd_prefix": "del ",
     "library": "var_list.py",
     "varRefreshCmd": "print(var_dic_list())"
    },
    "r": {
     "delete_cmd_postfix": ") ",
     "delete_cmd_prefix": "rm(",
     "library": "var_list.r",
     "varRefreshCmd": "cat(var_dic_list()) "
    }
   },
   "types_to_exclude": [
    "module",
    "function",
    "builtin_function_or_method",
    "instance",
    "_Feature"
   ],
   "window_display": false
  }
 },
 "nbformat": 4,
 "nbformat_minor": 4
}