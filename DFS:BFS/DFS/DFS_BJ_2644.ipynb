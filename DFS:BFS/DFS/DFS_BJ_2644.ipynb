{
 "cells": [
  {
   "cell_type": "markdown",
   "metadata": {},
   "source": [
    "## 백준온라인 저지 2644 번 문제 : 촌수계산\n",
    "문제 출처 : https://www.acmicpc.net/problem/2644"
   ]
  },
  {
   "cell_type": "markdown",
   "metadata": {},
   "source": [
    "여러 사람들의 부모-자식들 간의 관계가 주어졌을때, 주어진 두 사람의 촌수를 계산하는 문제  \n",
    "* 여러 사람들 간의 관계를 그래프로 표현이 가능.  \n",
    "* 사람을 노드로 생각했을때, 두 노드 간의 거리를 구하면 됨.  "
   ]
  },
  {
   "cell_type": "markdown",
   "metadata": {},
   "source": [
    "## 백준 제출 코드\n",
    "```python\n",
    "import sys \n",
    "sys.setrecursionlimit(10**6)\n",
    "\n",
    "N = int(input())\n",
    "T1, T2 = map(int, sys.stdin.readline().split())\n",
    "M = int(input())\n",
    "\n",
    "visited = [0] * (N+1)\n",
    "graph = [[] for _ in range(N+1)]\n",
    "count = 1\n",
    "\n",
    "for _ in range(M):\n",
    "    node1, node2 = map(int, sys.stdin.readline().split())\n",
    "    graph[node1].append(node2)\n",
    "    graph[node2].append(node1)\n",
    "\n",
    "def dfs(graph, T2, count):\n",
    "    visited[T2] = count\n",
    "    for i in graph[T2]:\n",
    "        if visited[i] == 0:\n",
    "            dfs(graph, i, count + 1)\n",
    "\n",
    "\n",
    "dfs(graph, T2, count)\n",
    "print(visited[T1] - 1)\n",
    "```"
   ]
  },
  {
   "cell_type": "markdown",
   "metadata": {},
   "source": [
    "---\n",
    "## 풀이 코드"
   ]
  },
  {
   "cell_type": "markdown",
   "metadata": {},
   "source": [
    "### 입력\n",
    "* 첫째 줄 : 전체 사람의 수 (N) = 노드의 수  \n",
    "* 둘째 줄 : 촌수를 계산해야 될 서로 다른 두 사람의 번호 (T1, T2)\n",
    "* 셋째 줄 : 부모 자식들 간의 관계의 개수 (M)\n",
    "* 넷째 줄 ~ : (부모 - 자식) 관계의 번호, 앞에 나오는 번호가 부모에 해당됨. \n",
    "\n",
    "\n",
    "### 출력\n",
    "* 둘째 줄에서 입력 받은 두 사람의 촌수를 나나태는 정수 반환 (친척관계가 없는 사람들은 -1 을 출력)\n",
    "\n",
    "\n",
    "### 문제 접근\n",
    "여러 노드들간의 관계가 주어졌을때 한 노드에서 한 노드까지의 거리를 dfs 로 구현하는 문제\n",
    "* 여러 사람들 간의 관계를 그래프로 표현이 가능.  \n",
    "* 사람을 노드로 생각했을때, 두 노드 간의 거리를 구하면 됨.  \n",
    "\n",
    "\n",
    "### 문제 해설\n",
    "문제에서 제시해준 힌트들을 그래프에 대입하여 생각해보면 다음과 같다.   \n",
    "\n",
    "* 전체 사람의 수는 N 이다 == N 개의 노드를 가진 그래프 \n",
    "* 부모 자식간의 관계의 개수는 M 이다 == M 개의 간선을 가진 그래프\n",
    "* 부모 자식의 촌수는 1이다 == 노드(부모)와 노드(자식) 사이의 거리는 1이다.\n",
    "* 친척관계가 없는 경우 == 서로 접점이 없는 그래프 (서로 다른 그래프)\n",
    "\n",
    "> N개의 노드와, M개의 간선을 가진 그래프가 주어질 때, Target1 노드와 Target2 노드의 거리를 구하는 문제 (단, 서로 다른 그래프일 경우 -1 을 반환하면 됨.)\n",
    "\n",
    "< 코드 구현 > \n",
    "1. 노드수, 간선 개수 입력받기 \n",
    "2. 노드들 간의 관계를 입력받아 그래프 정의하기\n",
    "3. 구해야 할 사람간의 거리를 dfs 로 탐색하여 구하기"
   ]
  },
  {
   "cell_type": "code",
   "execution_count": 4,
   "metadata": {},
   "outputs": [
    {
     "name": "stdout",
     "output_type": "stream",
     "text": [
      "9 \n",
      "7 3 \n",
      "7 \n",
      "1 2 \n",
      "1 3 \n",
      "2 7 \n",
      "2 8 \n",
      "2 9 \n",
      "4 5 \n",
      "4 6\n",
      "7,3의 촌수:  3\n",
      "[[], [2, 3], [1, 7, 8, 9], [1], [5, 6], [4], [4], [2], [2], [2]]\n",
      "[0, 0, 0, 0, 0, 0, 0, 0, 0, 0]\n"
     ]
    }
   ],
   "source": [
    "# 전체 사람 수 입력받기\n",
    "N = int(input())\n",
    "# 구해야 할 두사람 번호\n",
    "t1, t2 = map(int, input().split())\n",
    "# 부모 자식간의 관계의 개수 입력받기\n",
    "M = int(input())\n",
    "\n",
    "# 방문처리를 위한 visited 정의\n",
    "visited = [0] * (N+1)\n",
    "# 간선의 수만큼 반복해서 입력받은 값들을 그래프에 저장\n",
    "graph = [[] for _ in range(N+1)]\n",
    "count = 1\n",
    "\n",
    "for _ in range(M):\n",
    "    node1, node2 = map(int, input().split())\n",
    "    graph[node1].append(node2)\n",
    "    graph[node2].append(node1)\n",
    "\n",
    "\n",
    "# dfs 함수 정의\n",
    "def dfs(grapht, count):    \n",
    "    visited[t] = count\n",
    "    \n",
    "    for i in graph[t]:\n",
    "        if visited[i] == 0:\n",
    "            dfs(graph, i, count + 1)\n",
    "\n",
    "\n",
    "dfs(graph, t2, count)\n",
    "print(f'{t1},{t2}의 촌수: ', visited[t1] - 1)\n",
    "print(graph)\n",
    "print(visited)"
   ]
  }
 ],
 "metadata": {
  "kernelspec": {
   "display_name": "Python 3",
   "language": "python",
   "name": "python3"
  },
  "language_info": {
   "codemirror_mode": {
    "name": "ipython",
    "version": 3
   },
   "file_extension": ".py",
   "mimetype": "text/x-python",
   "name": "python",
   "nbconvert_exporter": "python",
   "pygments_lexer": "ipython3",
   "version": "3.8.5"
  },
  "toc": {
   "base_numbering": 1,
   "nav_menu": {},
   "number_sections": true,
   "sideBar": true,
   "skip_h1_title": false,
   "title_cell": "Table of Contents",
   "title_sidebar": "Contents",
   "toc_cell": false,
   "toc_position": {},
   "toc_section_display": true,
   "toc_window_display": false
  },
  "varInspector": {
   "cols": {
    "lenName": 16,
    "lenType": 16,
    "lenVar": 40
   },
   "kernels_config": {
    "python": {
     "delete_cmd_postfix": "",
     "delete_cmd_prefix": "del ",
     "library": "var_list.py",
     "varRefreshCmd": "print(var_dic_list())"
    },
    "r": {
     "delete_cmd_postfix": ") ",
     "delete_cmd_prefix": "rm(",
     "library": "var_list.r",
     "varRefreshCmd": "cat(var_dic_list()) "
    }
   },
   "types_to_exclude": [
    "module",
    "function",
    "builtin_function_or_method",
    "instance",
    "_Feature"
   ],
   "window_display": false
  }
 },
 "nbformat": 4,
 "nbformat_minor": 4
}
