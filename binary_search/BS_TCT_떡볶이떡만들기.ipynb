{
 "cells": [
  {
   "cell_type": "markdown",
   "metadata": {},
   "source": [
    "# 이코테 - 떡볶이 떡 만들기"
   ]
  },
  {
   "cell_type": "markdown",
   "metadata": {},
   "source": [
    "## 이진탐색 - 재귀사용"
   ]
  },
  {
   "cell_type": "code",
   "execution_count": 7,
   "metadata": {},
   "outputs": [
    {
     "name": "stdout",
     "output_type": "stream",
     "text": [
      "4 6 \n",
      "19 15 10 17\n"
     ]
    },
    {
     "data": {
      "text/plain": [
       "15"
      ]
     },
     "execution_count": 7,
     "metadata": {},
     "output_type": "execute_result"
    }
   ],
   "source": [
    "# 떡의 개수N과 요청한 떡의 길이\n",
    "N, M = map (int, input().split())\n",
    "\n",
    "# 입력 및 정렬\n",
    "rice_cake = list(map(int, input().split()))\n",
    "rice_cake.sort()\n",
    "\n",
    "def binary_search(array, target, start, end):\n",
    "    # 구해야할 적정 길이\n",
    "    answer = 0\n",
    "    # 이진 탐색\n",
    "    while start <= end:\n",
    "        mid = (start + end) // 2\n",
    "        dukk = 0\n",
    "        \n",
    "        # 주어진 떡들 중 자르고 남은 떡의 길이 구하기 (기준 길이보다 길면 남는 떡의 길이를 모두 더해줌.)\n",
    "        for k in array:\n",
    "            d =  (k - mid) if (k - mid) > 0 else 0\n",
    "            dukk += d\n",
    "        \n",
    "        # 떡이 목표와 같거나 더 많은 경우 == 기준점을 더 짧게 가져가야 함.\n",
    "        if dukk >= target:\n",
    "            answer = mid\n",
    "            start = mid + 1\n",
    "        # 떡이 목표보다 모자라는 경우\n",
    "        elif dukk < target:\n",
    "            end = mid - 1\n",
    "\n",
    "    return answer\n",
    "\n",
    "binary_search(rice_cake, M, 0, max(rice_cake))"
   ]
  },
  {
   "cell_type": "markdown",
   "metadata": {},
   "source": [
    "## 이진탐색 - 반복문 사용"
   ]
  },
  {
   "cell_type": "code",
   "execution_count": 3,
   "metadata": {},
   "outputs": [
    {
     "name": "stdout",
     "output_type": "stream",
     "text": [
      "4 6 \n",
      "19 15 10 17\n",
      "15\n"
     ]
    }
   ],
   "source": [
    "N, M = map(int, input().split())\n",
    "\n",
    "order = list(map(int, input().split()))\n",
    "\n",
    "start, end = 0, max(order)\n",
    "\n",
    "answer = 0\n",
    "while start <= end:\n",
    "    mid = (start + end) // 2\n",
    "    \n",
    "    dduk = 0\n",
    "    \n",
    "    for k in order:\n",
    "        if k - mid > 0:\n",
    "            dduk += k - mid\n",
    "            \n",
    "    if dduk >= M:\n",
    "        answer = mid\n",
    "        start = mid + 1\n",
    "    elif dduk < M:\n",
    "        end = mid -1\n",
    "\n",
    "print(answer)\n",
    "        "
   ]
  }
 ],
 "metadata": {
  "kernelspec": {
   "display_name": "Python 3",
   "language": "python",
   "name": "python3"
  },
  "language_info": {
   "codemirror_mode": {
    "name": "ipython",
    "version": 3
   },
   "file_extension": ".py",
   "mimetype": "text/x-python",
   "name": "python",
   "nbconvert_exporter": "python",
   "pygments_lexer": "ipython3",
   "version": "3.8.5"
  },
  "toc": {
   "base_numbering": 1,
   "nav_menu": {},
   "number_sections": true,
   "sideBar": true,
   "skip_h1_title": false,
   "title_cell": "Table of Contents",
   "title_sidebar": "Contents",
   "toc_cell": false,
   "toc_position": {},
   "toc_section_display": true,
   "toc_window_display": false
  },
  "varInspector": {
   "cols": {
    "lenName": 16,
    "lenType": 16,
    "lenVar": 40
   },
   "kernels_config": {
    "python": {
     "delete_cmd_postfix": "",
     "delete_cmd_prefix": "del ",
     "library": "var_list.py",
     "varRefreshCmd": "print(var_dic_list())"
    },
    "r": {
     "delete_cmd_postfix": ") ",
     "delete_cmd_prefix": "rm(",
     "library": "var_list.r",
     "varRefreshCmd": "cat(var_dic_list()) "
    }
   },
   "types_to_exclude": [
    "module",
    "function",
    "builtin_function_or_method",
    "instance",
    "_Feature"
   ],
   "window_display": false
  }
 },
 "nbformat": 4,
 "nbformat_minor": 4
}
