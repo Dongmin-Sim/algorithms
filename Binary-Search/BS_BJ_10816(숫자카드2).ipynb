{
 "cells": [
  {
   "cell_type": "markdown",
   "metadata": {},
   "source": [
    "# 백준 온라인  저지  : 10816 숫자 카드"
   ]
  },
  {
   "cell_type": "code",
   "execution_count": 21,
   "metadata": {},
   "outputs": [
    {
     "name": "stdout",
     "output_type": "stream",
     "text": [
      "[-10, -10, 2, 3, 3, 6, 7, 10, 10, 10]\n",
      "3 0 0 1 2 0 0 2 "
     ]
    }
   ],
   "source": [
    "N = input()\n",
    "card = list(map(int, input().split()))\n",
    "card.sort()\n",
    "\n",
    "M = input()\n",
    "order = list(map(int, input().split()))\n",
    "\n",
    "def binary_search(array, target, start, end):\n",
    "    '''\n",
    "    array : 배열\n",
    "    target : 찾을 대상 값\n",
    "    start : 시작 인덱스\n",
    "    end : 끝 인덱스\n",
    "    '''\n",
    "    # 시작 지점이 끝 지점보다 커지면 0 return : 찾고자 하는 값 없음\n",
    "    if start > end:\n",
    "        return 0\n",
    "    \n",
    "    # mid값 저장\n",
    "    mid = (start + end) // 2\n",
    "    \n",
    "    # 만약 배열의 mid 인덱스 값이 target값이라면\n",
    "    if array[mid] == target:\n",
    "        # 배열의 start~end+1 구간에서 target의 개수를 return\n",
    "        return array[start:end + 1].count(target)\n",
    "    \n",
    "    # mid보다 target값이 작을 경우\n",
    "    elif array[mid] > target:\n",
    "        return binary_search(array, target, start, mid - 1)\n",
    "    # mid보다 target값이 클 경우\n",
    "    else:\n",
    "        return binary_search(array, target, mid + 1, end)\n",
    "\n",
    "# 시작, 끝 지점 정의\n",
    "start, end = 0, M\n",
    "\n",
    "# 구해야할 카드 번호를 하나씩 binary search <-- 여기서 시간초과 나는 듯 함.\n",
    "for k in order:\n",
    "    print(binary_search(card, k, start, end), end=' ')"
   ]
  },
  {
   "cell_type": "markdown",
   "metadata": {},
   "source": [
    "위 코드 시간초과 나옴.  \n",
    "\n",
    "기존방식 : 개수를 구하는 binary_search 함수를 통해 구해야할 베열의 원소를 가지고 있는 배열에서 탐색\n",
    "\n",
    "## binary_search + 요소별 개수 저장 dict - 3964ms\n",
    "1. 위와 동일한 방법이지만, 주어진 배열의 각 요소별 개수를 이분탐색으로 구한 후 dict에 저장  \n",
    "    -> 구해야할 배열의 원소들이 dict에 있다면 그 원소의 개수를 출력, 없으면 0 출력"
   ]
  },
  {
   "cell_type": "markdown",
   "metadata": {},
   "source": [
    "```python\n",
    "import sys\n",
    "N = input()\n",
    "card = sorted(map(int, sys.stdin.readline().split()))\n",
    "\n",
    "M = input()\n",
    "order = map(int, sys.stdin.readline().split())\n",
    "\n",
    "def binary_search(array, target, start, end):\n",
    "    if start > end:\n",
    "        return 0\n",
    "    mid = (start + end) // 2\n",
    "    \n",
    "    if array[mid] == target:\n",
    "        return array[start:end + 1].count(target)\n",
    "    elif array[mid] > target:\n",
    "        return binary_search(array, target, start, mid - 1)\n",
    "    else:\n",
    "        return binary_search(array, target, mid + 1, end)\n",
    "## 앞은 동일\n",
    "\n",
    "# 각 원소별 개수를 저장할 dic (\"원소-개수\"쌍 꼴로 저장)\n",
    "n_dic = {}\n",
    "\n",
    "# 카드 더미를 돌면서\n",
    "for n in card:\n",
    "    start = 0\n",
    "    end = len(card) - 1\n",
    "    # n_dic에 원소가 없다면\n",
    "    if n not in n_dic:\n",
    "        # binary_search를 통해 개수를 세어 n_dict에 저장 \n",
    "        n_dic[n] = binary_search(card, n, start, end)\n",
    "\n",
    "# 구해야할 카드 번호가 n_dict에 있는지 확인 후 있다면 카드 개수 출력, 없으면 0 출력\n",
    "print(' '.join(str(n_dic[x]) if x in n_dic else '0' for x in order ))\n",
    "```"
   ]
  },
  {
   "cell_type": "markdown",
   "metadata": {},
   "source": [
    "### 해쉬 알고리즘 방식 - 720ms\n",
    "해쉬 구조로 각 원소의 개수를 count하여 저장 후 구해야할 원소와 비교 후 출력"
   ]
  },
  {
   "cell_type": "markdown",
   "metadata": {},
   "source": [
    "```python\n",
    "import sys\n",
    "N = input()\n",
    "cards = map(int, sys.stdin.readline().split())\n",
    "\n",
    "M = input()\n",
    "orders = map(int, sys.stdin.readline().split())\n",
    "\n",
    "hashmap = {}\n",
    "for card in cards:\n",
    "    if card in hashmap:\n",
    "        hashmap[card] += 1\n",
    "    else:\n",
    "        hashmap[card] = 1\n",
    "        \n",
    "print(' '.join(str(hashmap[order]) if order in hashmap else '0' for order in orders))\n",
    "```"
   ]
  },
  {
   "cell_type": "markdown",
   "metadata": {},
   "source": [
    "### Counter -956ms\n",
    "collections의 Counter 함수 사용"
   ]
  },
  {
   "cell_type": "markdown",
   "metadata": {},
   "source": [
    "```python\n",
    "import sys\n",
    "from collections import Counter\n",
    "N = input()\n",
    "cards = map(int, sys.stdin.readline().split())\n",
    "\n",
    "M = input()\n",
    "orders = map(int, sys.stdin.readline().split())\n",
    "\n",
    "# Counter에 리스트를 넣으면 각 원소별 개수를 센 dict 자료형이 출력됨\n",
    "Card = Counter(cards)\n",
    "\n",
    "# 구하려는 배열의 원소가 dict에 있다면 개수 출력, 없다면 0 출력\n",
    "for order in orders:\n",
    "    if order in Card:\n",
    "        print(str(Card[order]), end=' ')\n",
    "    else:\n",
    "        print('0', end=' ')\n",
    "```"
   ]
  },
  {
   "cell_type": "markdown",
   "metadata": {},
   "source": [
    "#### 마지막 줄 712ms\n",
    "마지막 출력 부분 아래와 같이 사용하는 것이 속도가 더 빠름\n",
    "```python\n",
    "print(' '.join(str(Card[order]) if order in Card else '0' for order in orders))\n",
    "```"
   ]
  }
 ],
 "metadata": {
  "kernelspec": {
   "display_name": "Python 3",
   "language": "python",
   "name": "python3"
  },
  "language_info": {
   "codemirror_mode": {
    "name": "ipython",
    "version": 3
   },
   "file_extension": ".py",
   "mimetype": "text/x-python",
   "name": "python",
   "nbconvert_exporter": "python",
   "pygments_lexer": "ipython3",
   "version": "3.8.5"
  },
  "toc": {
   "base_numbering": 1,
   "nav_menu": {},
   "number_sections": true,
   "sideBar": true,
   "skip_h1_title": false,
   "title_cell": "Table of Contents",
   "title_sidebar": "Contents",
   "toc_cell": false,
   "toc_position": {},
   "toc_section_display": true,
   "toc_window_display": false
  },
  "varInspector": {
   "cols": {
    "lenName": 16,
    "lenType": 16,
    "lenVar": 40
   },
   "kernels_config": {
    "python": {
     "delete_cmd_postfix": "",
     "delete_cmd_prefix": "del ",
     "library": "var_list.py",
     "varRefreshCmd": "print(var_dic_list())"
    },
    "r": {
     "delete_cmd_postfix": ") ",
     "delete_cmd_prefix": "rm(",
     "library": "var_list.r",
     "varRefreshCmd": "cat(var_dic_list()) "
    }
   },
   "types_to_exclude": [
    "module",
    "function",
    "builtin_function_or_method",
    "instance",
    "_Feature"
   ],
   "window_display": false
  }
 },
 "nbformat": 4,
 "nbformat_minor": 4
}