{
 "cells": [
  {
   "cell_type": "markdown",
   "metadata": {},
   "source": [
    "# 백준 온라인 저지 : 나무 자르기\n",
    "문제 출처 : https://www.acmicpc.net/problem/2805"
   ]
  },
  {
   "cell_type": "code",
   "execution_count": 4,
   "metadata": {},
   "outputs": [
    {
     "name": "stdout",
     "output_type": "stream",
     "text": [
      "4 7 \n",
      "20 15 10 17\n",
      "15\n"
     ]
    }
   ],
   "source": [
    "import sys\n",
    "# 나무의 수, 필요한 나무의 길이\n",
    "N, M = map(int, sys.stdin.readline().split())\n",
    "\n",
    "trees = list(map(int, sys.stdin.readline().split())\n",
    "\n",
    "start, end = 0, max(trees)\n",
    "answer = 0\n",
    "\n",
    "while start <= end:\n",
    "    mid = (start + end) // 2\n",
    "    tree = 0\n",
    "    \n",
    "    for k in trees:\n",
    "        if (k - mid) > 0:\n",
    "            tree += (k - mid)\n",
    "             \n",
    "    if tree >= M:\n",
    "        answer = mid\n",
    "        start = mid + 1\n",
    "    else:\n",
    "        end = mid - 1\n",
    "    \n",
    "print(answer)"
   ]
  },
  {
   "cell_type": "markdown",
   "metadata": {},
   "source": [
    "위 코드 시간초과\n",
    "\n",
    "해결방법\n",
    "1. 14~16줄 (남겨진 나무 길이 구하는 부분) M(목표길이)를 넘으면 반복문 탈출 조건 추가 - 4304ms\n",
    "2. 1번 방법 + 15번째줄 `if (k - mid) > 0:`을 `if k > mid:`로 변경하여 구현 - 2980ms \n",
    "3. 14~16줄 (남겨진 나무 길이 구하는 부분)을 함수로 변경해서 구현 - 3060ms\n"
   ]
  },
  {
   "cell_type": "markdown",
   "metadata": {},
   "source": [
    "## 1번 해결방법 - 4304ms"
   ]
  },
  {
   "cell_type": "markdown",
   "metadata": {},
   "source": [
    "```python\n",
    "import sys\n",
    "\n",
    "N, M = map(int, sys.stdin.readline().split())\n",
    "\n",
    "trees = list(map(int, sys.stdin.readline().split()))\n",
    "\n",
    "start, end = 0, max(trees)\n",
    "answer = 0\n",
    "\n",
    "while start <= end:\n",
    "    mid = (start + end) // 2\n",
    "    tree = 0\n",
    "    \n",
    "    for k in trees:\n",
    "        if (k - mid) > 0:\n",
    "            tree += (k - mid)\n",
    "        # 반복문 탈출 조건 추가\n",
    "        if tree > M:\n",
    "            break\n",
    "            \n",
    "    if tree >= M:\n",
    "        answer = mid\n",
    "        start = mid + 1\n",
    "    else:\n",
    "        end = mid - 1\n",
    "    \n",
    "print(answer)\n",
    "```"
   ]
  },
  {
   "cell_type": "markdown",
   "metadata": {},
   "source": [
    "## 2번 해결 방법 - 2980ms"
   ]
  },
  {
   "cell_type": "markdown",
   "metadata": {},
   "source": [
    "```python\n",
    "import sys\n",
    "\n",
    "N, M = map(int, sys.stdin.readline().split())\n",
    "\n",
    "trees = list(map(int, sys.stdin.readline().split()))\n",
    "\n",
    "start, end = 0, max(trees)\n",
    "answer = 0\n",
    "\n",
    "while start <= end:\n",
    "    mid = (start + end) // 2\n",
    "    tree = 0\n",
    "    \n",
    "    for k in trees:\n",
    "        # if 조건문 수정\n",
    "        if k > mid:\n",
    "            tree += (k - mid)\n",
    "        # 반복문 탈출 조건 추가\n",
    "        if tree > M:\n",
    "            break\n",
    "            \n",
    "    if tree >= M:\n",
    "        answer = mid\n",
    "        start = mid + 1\n",
    "    else:\n",
    "        end = mid - 1\n",
    "    \n",
    "print(answer)\n",
    "```"
   ]
  },
  {
   "cell_type": "markdown",
   "metadata": {},
   "source": [
    "## 3번 해결 방법 - 3060ms"
   ]
  },
  {
   "cell_type": "markdown",
   "metadata": {},
   "source": [
    "```python\n",
    "import sys\n",
    "\n",
    "N, M = map(int, sys.stdin.readline().split())\n",
    "\n",
    "trees = list(map(int, sys.stdin.readline().split()))\n",
    "\n",
    "start, end = 0, max(trees)\n",
    "answer = 0\n",
    "\n",
    "# 남은 나무 길이 구하는 부분 함수 구현\n",
    "def calc(mid):\n",
    "    total = 0\n",
    "    for k in trees:\n",
    "        if k > mid:\n",
    "            total += (k - mid)\n",
    "    return total\n",
    "    \n",
    "\n",
    "while start <= end:\n",
    "    mid = (start + end) // 2\n",
    "    # 남은 나무 길이 구하는 부분 함수 구현\n",
    "    tree = calc(mid)\n",
    "            \n",
    "    if tree >= M:\n",
    "        answer = mid\n",
    "        start = mid + 1\n",
    "    else:\n",
    "        end = mid - 1\n",
    "    \n",
    "print(answer)\n",
    "```"
   ]
  }
 ],
 "metadata": {
  "kernelspec": {
   "display_name": "Python 3",
   "language": "python",
   "name": "python3"
  },
  "language_info": {
   "codemirror_mode": {
    "name": "ipython",
    "version": 3
   },
   "file_extension": ".py",
   "mimetype": "text/x-python",
   "name": "python",
   "nbconvert_exporter": "python",
   "pygments_lexer": "ipython3",
   "version": "3.8.5"
  },
  "toc": {
   "base_numbering": 1,
   "nav_menu": {},
   "number_sections": true,
   "sideBar": true,
   "skip_h1_title": false,
   "title_cell": "Table of Contents",
   "title_sidebar": "Contents",
   "toc_cell": false,
   "toc_position": {},
   "toc_section_display": true,
   "toc_window_display": false
  },
  "varInspector": {
   "cols": {
    "lenName": 16,
    "lenType": 16,
    "lenVar": 40
   },
   "kernels_config": {
    "python": {
     "delete_cmd_postfix": "",
     "delete_cmd_prefix": "del ",
     "library": "var_list.py",
     "varRefreshCmd": "print(var_dic_list())"
    },
    "r": {
     "delete_cmd_postfix": ") ",
     "delete_cmd_prefix": "rm(",
     "library": "var_list.r",
     "varRefreshCmd": "cat(var_dic_list()) "
    }
   },
   "types_to_exclude": [
    "module",
    "function",
    "builtin_function_or_method",
    "instance",
    "_Feature"
   ],
   "window_display": false
  }
 },
 "nbformat": 4,
 "nbformat_minor": 4
}
