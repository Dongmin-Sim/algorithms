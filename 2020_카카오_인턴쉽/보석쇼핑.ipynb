{
 "cells": [
  {
   "cell_type": "markdown",
   "metadata": {},
   "source": [
    "# 보석쇼핑\n",
    "\n",
    "1. 구간 설정\n",
    "    -> 어떤 방식으로 설정할 것 인가?\n",
    "    - 모든 구간을 설정해서 다보기? (너무 오래걸림)\n",
    "    - 전체가 다 다른 보석들로 이루어져 있는 경우가 있을 수 있으므로 전체 구간을 설정할 수 있어야 함..\n",
    "    - 반대로 전체가 다 같은 보석들로 이루어져 있는 경우 한 구간만 설정할 수도 있어야 함.\n",
    "    - **가장 짧은 구간을 return** 해야함. (같을 경우 인덱스가 빠른 순을 return)\n",
    "    \n",
    "    포함 & 짧은 조건을 만족\n",
    "    \n",
    "2. 설정한 구간안에 적어도 보석이 1개씩 있는지\n",
    "    -> 적어도 1개씩 있는지 어떻게 체크할 것인가?\n",
    "    - 구간에 대해서 반복문 돌며 set 로 체크 \n",
    "    \n",
    "3. 설정한 구간 출력"
   ]
  },
  {
   "cell_type": "code",
   "execution_count": 38,
   "metadata": {},
   "outputs": [
    {
     "name": "stdout",
     "output_type": "stream",
     "text": [
      "0 0\n",
      "0 1\n",
      "0 2\n",
      "0 3\n",
      "0 4\n",
      "0 5\n",
      "0 6\n",
      "0 7\n",
      "1 1\n",
      "1 2\n",
      "1 3\n",
      "1 4\n",
      "1 5\n",
      "1 6\n",
      "1 7\n",
      "2 2\n",
      "2 3\n",
      "2 4\n",
      "2 5\n",
      "2 6\n",
      "2 7\n",
      "3 3\n",
      "3 4\n",
      "3 5\n",
      "3 6\n",
      "3 7\n",
      "4 4\n",
      "4 5\n",
      "4 6\n",
      "4 7\n",
      "5 5\n",
      "5 6\n",
      "5 7\n",
      "6 6\n",
      "6 7\n",
      "7 7\n"
     ]
    }
   ],
   "source": [
    "for i in range(8):\n",
    "    for j in range(i, 8):\n",
    "        print(i, j)\n",
    "        "
   ]
  },
  {
   "cell_type": "code",
   "execution_count": 37,
   "metadata": {},
   "outputs": [
    {
     "name": "stdout",
     "output_type": "stream",
     "text": [
      "{'SAPPHIRE', 'EMERALD', 'DIA', 'RUBY'}\n"
     ]
    },
    {
     "data": {
      "text/plain": [
       "True"
      ]
     },
     "execution_count": 37,
     "metadata": {},
     "output_type": "execute_result"
    }
   ],
   "source": [
    "gems1 = [\"DIA\", \"RUBY\", \"RUBY\", \"DIA\", \"DIA\", \"EMERALD\", \"SAPPHIRE\", \"DIA\"]\n",
    "print(set(gems1))\n",
    "set([\"RUBY\", \"DIA\", \"DIA\", \"EMERALD\", \"SAPPHIRE\"]) == set(gems1)"
   ]
  },
  {
   "cell_type": "code",
   "execution_count": 116,
   "metadata": {},
   "outputs": [],
   "source": [
    "def solution(gems):\n",
    "    gem_set = set(gems)\n",
    "    \n",
    "    #구간 설정\n",
    "    dic = {}\n",
    "    for i in range(len(gems)):\n",
    "        for j in range(i, len(gems)):\n",
    "            if set(gems[i:j]) == gem_set:\n",
    "                dic[f'{i+1}{j}'] = j - i + 1\n",
    "\n",
    "    dic = sorted(dic.items(), key=lambda x: x[1])\n",
    "\n",
    "#     min_sec = dic[0][0]\n",
    "#     a, b = int(min_sec[0]), int(min_sec[1])\n",
    "    \n",
    "    return dic"
   ]
  },
  {
   "cell_type": "code",
   "execution_count": 117,
   "metadata": {},
   "outputs": [
    {
     "data": {
      "text/plain": [
       "[]"
      ]
     },
     "execution_count": 117,
     "metadata": {},
     "output_type": "execute_result"
    }
   ],
   "source": [
    "# 문제점 전체 커버가 \n",
    "gems1 =  [\"ZZZ\", \"YYY\", \"NNNN\", \"YYY\", \"BBB\"]\n",
    "solution(gems1)"
   ]
  },
  {
   "cell_type": "code",
   "execution_count": 115,
   "metadata": {},
   "outputs": [
    {
     "name": "stdout",
     "output_type": "stream",
     "text": [
      "성공입니다.\n",
      "성공입니다.\n",
      "성공입니다.\n"
     ]
    },
    {
     "ename": "IndexError",
     "evalue": "list index out of range",
     "output_type": "error",
     "traceback": [
      "\u001b[0;31m---------------------------------------------------------------------------\u001b[0m",
      "\u001b[0;31mIndexError\u001b[0m                                Traceback (most recent call last)",
      "\u001b[0;32m<ipython-input-115-3502a7fdbaba>\u001b[0m in \u001b[0;36m<module>\u001b[0;34m\u001b[0m\n\u001b[1;32m     22\u001b[0m \u001b[0;31m# test case 4\u001b[0m\u001b[0;34m\u001b[0m\u001b[0;34m\u001b[0m\u001b[0;34m\u001b[0m\u001b[0m\n\u001b[1;32m     23\u001b[0m \u001b[0mgems4\u001b[0m \u001b[0;34m=\u001b[0m \u001b[0;34m[\u001b[0m\u001b[0;34m\"ZZZ\"\u001b[0m\u001b[0;34m,\u001b[0m \u001b[0;34m\"YYY\"\u001b[0m\u001b[0;34m,\u001b[0m \u001b[0;34m\"NNNN\"\u001b[0m\u001b[0;34m,\u001b[0m \u001b[0;34m\"YYY\"\u001b[0m\u001b[0;34m,\u001b[0m \u001b[0;34m\"BBB\"\u001b[0m\u001b[0;34m]\u001b[0m\u001b[0;34m\u001b[0m\u001b[0;34m\u001b[0m\u001b[0m\n\u001b[0;32m---> 24\u001b[0;31m \u001b[0;32mif\u001b[0m \u001b[0msolution\u001b[0m\u001b[0;34m(\u001b[0m\u001b[0mgems4\u001b[0m\u001b[0;34m)\u001b[0m \u001b[0;34m==\u001b[0m \u001b[0;34m[\u001b[0m\u001b[0;36m1\u001b[0m\u001b[0;34m,\u001b[0m \u001b[0;36m5\u001b[0m\u001b[0;34m]\u001b[0m\u001b[0;34m:\u001b[0m\u001b[0;34m\u001b[0m\u001b[0;34m\u001b[0m\u001b[0m\n\u001b[0m\u001b[1;32m     25\u001b[0m     \u001b[0mprint\u001b[0m\u001b[0;34m(\u001b[0m\u001b[0;34m'성공입니다.'\u001b[0m\u001b[0;34m)\u001b[0m\u001b[0;34m\u001b[0m\u001b[0;34m\u001b[0m\u001b[0m\n\u001b[1;32m     26\u001b[0m \u001b[0;32melse\u001b[0m\u001b[0;34m:\u001b[0m\u001b[0;34m\u001b[0m\u001b[0;34m\u001b[0m\u001b[0m\n",
      "\u001b[0;32m<ipython-input-112-630b6ebe9175>\u001b[0m in \u001b[0;36msolution\u001b[0;34m(gems)\u001b[0m\n\u001b[1;32m     11\u001b[0m     \u001b[0mdic\u001b[0m \u001b[0;34m=\u001b[0m \u001b[0msorted\u001b[0m\u001b[0;34m(\u001b[0m\u001b[0mdic\u001b[0m\u001b[0;34m.\u001b[0m\u001b[0mitems\u001b[0m\u001b[0;34m(\u001b[0m\u001b[0;34m)\u001b[0m\u001b[0;34m,\u001b[0m \u001b[0mkey\u001b[0m\u001b[0;34m=\u001b[0m\u001b[0;32mlambda\u001b[0m \u001b[0mx\u001b[0m\u001b[0;34m:\u001b[0m \u001b[0mx\u001b[0m\u001b[0;34m[\u001b[0m\u001b[0;36m1\u001b[0m\u001b[0;34m]\u001b[0m\u001b[0;34m)\u001b[0m\u001b[0;34m\u001b[0m\u001b[0;34m\u001b[0m\u001b[0m\n\u001b[1;32m     12\u001b[0m \u001b[0;34m\u001b[0m\u001b[0m\n\u001b[0;32m---> 13\u001b[0;31m     \u001b[0mmin_sec\u001b[0m \u001b[0;34m=\u001b[0m \u001b[0mdic\u001b[0m\u001b[0;34m[\u001b[0m\u001b[0;36m0\u001b[0m\u001b[0;34m]\u001b[0m\u001b[0;34m[\u001b[0m\u001b[0;36m0\u001b[0m\u001b[0;34m]\u001b[0m\u001b[0;34m\u001b[0m\u001b[0;34m\u001b[0m\u001b[0m\n\u001b[0m\u001b[1;32m     14\u001b[0m     \u001b[0ma\u001b[0m\u001b[0;34m,\u001b[0m \u001b[0mb\u001b[0m \u001b[0;34m=\u001b[0m \u001b[0mint\u001b[0m\u001b[0;34m(\u001b[0m\u001b[0mmin_sec\u001b[0m\u001b[0;34m[\u001b[0m\u001b[0;36m0\u001b[0m\u001b[0;34m]\u001b[0m\u001b[0;34m)\u001b[0m\u001b[0;34m,\u001b[0m \u001b[0mint\u001b[0m\u001b[0;34m(\u001b[0m\u001b[0mmin_sec\u001b[0m\u001b[0;34m[\u001b[0m\u001b[0;36m1\u001b[0m\u001b[0;34m]\u001b[0m\u001b[0;34m)\u001b[0m\u001b[0;34m\u001b[0m\u001b[0;34m\u001b[0m\u001b[0m\n\u001b[1;32m     15\u001b[0m \u001b[0;34m\u001b[0m\u001b[0m\n",
      "\u001b[0;31mIndexError\u001b[0m: list index out of range"
     ]
    }
   ],
   "source": [
    "# test case 1\n",
    "gems1 = [\"DIA\", \"RUBY\", \"RUBY\", \"DIA\", \"DIA\", \"EMERALD\", \"SAPPHIRE\", \"DIA\"]\n",
    "if solution(gems1) == [3, 7]:\n",
    "    print('성공입니다.')\n",
    "else:\n",
    "    print('오류입니다.')\n",
    "\n",
    "# test case 2\n",
    "gems2 = [\"AA\", \"AB\", \"AC\", \"AA\", \"AC\"]\n",
    "if solution(gems2) == [1, 3]:\n",
    "    print('성공입니다.')\n",
    "else:\n",
    "    print('오류입니다.')\n",
    "\n",
    "# test case 3\n",
    "gems3 = [\"XYZ\", \"XYZ\", \"XYZ\"]\n",
    "if solution(gems3) == [1, 1]:\n",
    "    print('성공입니다.')\n",
    "else:\n",
    "    print('오류입니다.')\n",
    "\n",
    "# test case 4\n",
    "gems4 = [\"ZZZ\", \"YYY\", \"NNNN\", \"YYY\", \"BBB\"]\n",
    "if solution(gems4) == [1, 5]:\n",
    "    print('성공입니다.')\n",
    "else:\n",
    "    print('오류입니다.')"
   ]
  },
  {
   "cell_type": "code",
   "execution_count": null,
   "metadata": {},
   "outputs": [],
   "source": []
  }
 ],
 "metadata": {
  "kernelspec": {
   "display_name": "Python 3",
   "language": "python",
   "name": "python3"
  },
  "language_info": {
   "codemirror_mode": {
    "name": "ipython",
    "version": 3
   },
   "file_extension": ".py",
   "mimetype": "text/x-python",
   "name": "python",
   "nbconvert_exporter": "python",
   "pygments_lexer": "ipython3",
   "version": "3.8.5"
  },
  "toc": {
   "base_numbering": 1,
   "nav_menu": {},
   "number_sections": true,
   "sideBar": true,
   "skip_h1_title": false,
   "title_cell": "Table of Contents",
   "title_sidebar": "Contents",
   "toc_cell": false,
   "toc_position": {},
   "toc_section_display": true,
   "toc_window_display": false
  },
  "varInspector": {
   "cols": {
    "lenName": 16,
    "lenType": 16,
    "lenVar": 40
   },
   "kernels_config": {
    "python": {
     "delete_cmd_postfix": "",
     "delete_cmd_prefix": "del ",
     "library": "var_list.py",
     "varRefreshCmd": "print(var_dic_list())"
    },
    "r": {
     "delete_cmd_postfix": ") ",
     "delete_cmd_prefix": "rm(",
     "library": "var_list.r",
     "varRefreshCmd": "cat(var_dic_list()) "
    }
   },
   "types_to_exclude": [
    "module",
    "function",
    "builtin_function_or_method",
    "instance",
    "_Feature"
   ],
   "window_display": false
  }
 },
 "nbformat": 4,
 "nbformat_minor": 4
}