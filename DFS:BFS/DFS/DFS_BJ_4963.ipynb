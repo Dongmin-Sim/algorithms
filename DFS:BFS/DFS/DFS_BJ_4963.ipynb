{
 "cells": [
  {
   "cell_type": "markdown",
   "metadata": {},
   "source": [
    "## 백준온라인 저지 4963 번 문제 : 섬의개수\n",
    "문제 출처 : https://www.acmicpc.net/problem/4963"
   ]
  },
  {
   "cell_type": "markdown",
   "metadata": {},
   "source": [
    "가로와 세로가 주어지는 사각형으로 이루어져있는 섬과 바다중에서 섬의 개수를 세는 문제\n",
    "* 섬은 가로, 세로, 대각선으로 이동할 수 있다면 하나의 섬으로 판단함. \n",
    "* 너비 w, 높이 h의 지도가 주어질 때 섬의 개수를 출력하는 프로그램 (섬은 1, 바다는 0 로 표현된 지도)"
   ]
  },
  {
   "cell_type": "markdown",
   "metadata": {},
   "source": [
    "## 백준 제출 코드"
   ]
  },
  {
   "cell_type": "markdown",
   "metadata": {},
   "source": [
    "```python\n",
    "import sys\n",
    "sys.setrecursionlimit(10**6)\n",
    "\n",
    "count = []\n",
    "\n",
    "dx = [-1, 1, 0, 0, -1, -1, 1, 1]\n",
    "dy = [0, 0, -1, 1, -1, 1, -1, 1]\n",
    "\n",
    "while True:\n",
    "    w , h = map(int, sys.stdin.readline().split())\n",
    "    if w + h == 0:\n",
    "        break\n",
    "    \n",
    "    graph = []\n",
    "    for _ in range(h):\n",
    "        graph.append(list(map(int, sys.stdin.readline().split())))\n",
    "    cnt = 0\n",
    "    \n",
    "\n",
    "    def dfs(x, y):\n",
    "        graph[x][y] = 0\n",
    "        \n",
    "        for i in range(len(dx)):\n",
    "            X = x + dx[i]\n",
    "            Y = y + dy[i]\n",
    "            if (0<= X < h) and (0<= Y < w) and graph[X][Y] == 1:\n",
    "                dfs(X, Y)\n",
    "    \n",
    "    \n",
    "    for i in range(h):\n",
    "        for j in range(w):\n",
    "            if graph[i][j] == 1:\n",
    "                dfs(i, j)\n",
    "                cnt += 1\n",
    "    \n",
    "    count.append(cnt)\n",
    "\n",
    "for i in count:\n",
    "    print(i) \n",
    "```"
   ]
  },
  {
   "cell_type": "markdown",
   "metadata": {},
   "source": [
    "---\n",
    "## 3. 풀이코드"
   ]
  },
  {
   "cell_type": "markdown",
   "metadata": {},
   "source": [
    "### 입력\n",
    "여러개의 테스트 게이스로 이루어져있는 입력값이 들어옴\n",
    "* 첫째 줄 : 지도의 너비 w, 지도의 높이 h 가 주어짐 (0<= w, h <= 50)\n",
    "* 둘째 줄 ~ : h 줄 만큼의 지도가 주어짐 (1=육지, 0=바다)\n",
    "* 마지막 줄 : 입력의 끝을 알려주는 0, 0 이 주어짐\n",
    "\n",
    "### 출력\n",
    "각 테스트 케이스에 대해서 섬의 개수를 출력\n",
    "\n",
    "### 문제 접근\n",
    "너비 w 와 높이 h 의 육지(1)과 바다(0)로 이루어져 있는 지도가 주어졌을때, 각 섬의 개수를 출력하는 문제\n",
    "* 각 섬을 노드에 비유했을때, 연결되어 있는 연결요소의 개수를 구하는 문제. [11724 문제와 유사함](https://github.com/Dongmin-Sim/algorithms/blob/main/DFS:BFS/BFS_BJ_11724.ipynb)\n",
    "* 지도의 특정 좌표(육지)를 방문했을때, 해당 좌표와 연결되어있는 좌표(육지)를 모두 탐색하여 방문처리하고, 해당 연결요소(섬)의 개수에 +=1 하면 됨.\n",
    "\n",
    "> dfs 로 방향이 없는 그래프의 연결요소를 구하는 문제 이므로, 한 노드(육지)에 연결된 모든 노드들(육지)를 탐색을 마쳤을때, 섬의 개수에 1을 더하는 방식으로 문제를 풀이함.\n",
    "\n",
    "단, 이 문제는 육지들이 상하좌우 뿐 아니라 대각선으로 연결되어 있다고 판단하기 때문에 이에 대한 풀이도 추가하여야 함. \n",
    "\n",
    "### 코드 해설\n",
    "1. 첫째 줄의 지도의 너비와 높이를 w, h 값의 변수로 입력 받음 (while 문 안에 작성=해당 문제는 여러개의 테스트 케이스로 이루어져 있기 때문)\n",
    "2. w+h 값이 0이라면 반복문 종료 (입력의 끝은 0 0 이 입력되므로)\n",
    "3. 지도를 입력 받아 2차원 리스트인 graph 변수에 저장\n",
    "4. 상하좌우+대각선의 이동거리를 나타내는 dx, dy 변수 정의 (2차원 리스트에서는 좌상단이 [0, 0] 으로 시작함, 앞의 값이 높이를 나타내고, 뒤의 값이 좌우를 나타내므로 주의)\n",
    "5. dfs 함수 정의 후 지도의 모든 좌표에 대해서 dfs 탐색 시행\n",
    "\n",
    "* 지도의 모든 구간을 육지인 곳에 대해서만 dfs 탐색을 시행\n",
    "* dfs를 탐색한 특정 좌표을 방문처리 한 후, 해당 좌표와 연결된 좌표(육지)를 찾기 위해 \"상, 하, 좌, 우, 좌상, 우상, 좌하, 우하\" 으로 이동 후 다음조건을 만족하면 이동좌표에 대해 dfs 탐색\n",
    "    * 조건 1. 이동하는 좌표가 지도 밖에 위치해서는 안됨(지도를 벗어나서는 안됨)\n",
    "    * 조건 2. 이동하는 좌표가 육지(1) 이어야 함.\n",
    "* 특정 좌표의 dfs 탐색이 모두 끝났을때, 섬의 개수 cnt에 +1 을 해줌.\n",
    "\n",
    "6. 섬의 개수 출력"
   ]
  },
  {
   "cell_type": "code",
   "execution_count": 16,
   "metadata": {},
   "outputs": [
    {
     "name": "stdout",
     "output_type": "stream",
     "text": [
      "1 1 \n",
      "0\n",
      "2 2 \n",
      "0 1 \n",
      "1 0 \n",
      "3 2 \n",
      "1 1 1 \n",
      "1 1 1 \n",
      "5 4 \n",
      "1 0 1 0 0\n",
      "1 0 0 0 0\n",
      "1 0 1 0 1 \n",
      "1 0 0 1 0\n",
      "5 4 \n",
      "1 1 1 0 1\n",
      "1 0 1 0 1\n",
      "1 0 1 0 1\n",
      "1 0 1 1 1\n",
      "5 5 \n",
      "1 0 1 0 1\n",
      "0 0 0 0 0\n",
      "1 0 1 0 1\n",
      "0 0 0 0 0\n",
      "1 0 1 0 1\n",
      "0 0\n",
      "0\n",
      "1\n",
      "1\n",
      "3\n",
      "1\n",
      "9\n"
     ]
    }
   ],
   "source": [
    "count = []\n",
    "\n",
    "# 입력이 끝날때 까지 반복\n",
    "while True:\n",
    "    # 지도의 너비와 높이 입력받기\n",
    "    w , h = map(int, input().split())\n",
    "    # 입력받은 너비와 높이가 모두 0이라면 반복문 종료\n",
    "    if w + h == 0:\n",
    "        break\n",
    "    \n",
    "    # 지도 입력받아 2차원 리스트인 graph 변수에 저장\n",
    "    graph = []\n",
    "    for _ in range(h):\n",
    "        graph.append(list(map(int, input().split())))\n",
    "    cnt = 0\n",
    "    \n",
    "    # 상, 하, 좌, 우, 좌상, 우상, 좌하, 우하\n",
    "    dx = [-1, 1, 0, 0, -1, -1, 1, 1]\n",
    "    dy = [0, 0, -1, 1, -1, 1, -1, 1]\n",
    "    \n",
    "    # dfs 함수 정의, 좌표 값을 인잣값으로 받음\n",
    "    def dfs(x, y):\n",
    "        # 해당 좌표를 방문처리(바다에 해당되는 0으로)\n",
    "        graph[x][y] = 0\n",
    "        \n",
    "        # 상, 하, 좌, 우 + 대각선으로 이동\n",
    "        for i in range(len(dx)):\n",
    "            X = x + dx[i]\n",
    "            Y = y + dy[i]\n",
    "            # 이동한 좌표가 맴을 벗어나지 않고 육지라면 dfs 탐색\n",
    "            if (0<= X < h) and (0<= Y < w) and graph[X][Y] == 1:\n",
    "                dfs(X, Y)\n",
    "    \n",
    "    \n",
    "    # 지도의 모든 타일 dfs 탐색\n",
    "    for i in range(h):\n",
    "        for j in range(w):\n",
    "            # 타일이 육지인 경우에만 dfs 탐색\n",
    "            if graph[i][j] == 1:\n",
    "                dfs(i, j)\n",
    "                # dfs 가 끝난 후 cnt + 1\n",
    "                cnt += 1\n",
    "    \n",
    "    count.append(cnt)\n",
    "\n",
    "# 섬의 개수 출력\n",
    "for i in count:\n",
    "    print(i) "
   ]
  }
 ],
 "metadata": {
  "kernelspec": {
   "display_name": "Python 3",
   "language": "python",
   "name": "python3"
  },
  "language_info": {
   "codemirror_mode": {
    "name": "ipython",
    "version": 3
   },
   "file_extension": ".py",
   "mimetype": "text/x-python",
   "name": "python",
   "nbconvert_exporter": "python",
   "pygments_lexer": "ipython3",
   "version": "3.8.5"
  },
  "toc": {
   "base_numbering": 1,
   "nav_menu": {},
   "number_sections": true,
   "sideBar": true,
   "skip_h1_title": false,
   "title_cell": "Table of Contents",
   "title_sidebar": "Contents",
   "toc_cell": false,
   "toc_position": {},
   "toc_section_display": true,
   "toc_window_display": false
  },
  "varInspector": {
   "cols": {
    "lenName": 16,
    "lenType": 16,
    "lenVar": 40
   },
   "kernels_config": {
    "python": {
     "delete_cmd_postfix": "",
     "delete_cmd_prefix": "del ",
     "library": "var_list.py",
     "varRefreshCmd": "print(var_dic_list())"
    },
    "r": {
     "delete_cmd_postfix": ") ",
     "delete_cmd_prefix": "rm(",
     "library": "var_list.r",
     "varRefreshCmd": "cat(var_dic_list()) "
    }
   },
   "types_to_exclude": [
    "module",
    "function",
    "builtin_function_or_method",
    "instance",
    "_Feature"
   ],
   "window_display": false
  }
 },
 "nbformat": 4,
 "nbformat_minor": 4
}
