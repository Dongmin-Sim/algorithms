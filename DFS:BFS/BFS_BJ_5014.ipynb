{
 "cells": [
  {
   "cell_type": "markdown",
   "metadata": {},
   "source": [
    "## 백준온라인 저지 5014 번 문제 : 스타트링크\n",
    "문제 출처 : https://www.acmicpc.net/problem/5014"
   ]
  },
  {
   "cell_type": "markdown",
   "metadata": {},
   "source": [
    "## 제출 코드\n",
    "```python\n",
    "from collections import deque\n",
    "import sys \n",
    "input = sys.stdin.readline\n",
    "\n",
    "F, S, G, U, D = map(int, input().split())\n",
    "\n",
    "visited = [0 for _ in range(F+1)]\n",
    "\n",
    "def bfs(start, startlink):\n",
    "    queue = deque()\n",
    "    queue.append(start)\n",
    "    visited[start] = 1\n",
    "    while queue:\n",
    "        floor = queue.popleft()\n",
    "        for button in [U, -D]:\n",
    "            nfloor = floor + button\n",
    "            if nfloor <= 0 or nfloor > F or visited[nfloor] != 0:\n",
    "                continue\n",
    "            queue.append(nfloor)\n",
    "            visited[nfloor] = visited[floor] + 1\n",
    "            \n",
    "    return visited[startlink]\n",
    "\n",
    "butt_cnt = bfs(S, G)\n",
    "\n",
    "if butt_cnt == 0:\n",
    "    print(\"use the stairs\")\n",
    "else:\n",
    "    print(butt_cnt)    \n",
    "```"
   ]
  },
  {
   "cell_type": "markdown",
   "metadata": {},
   "source": [
    "---\n",
    "## 풀이 코드"
   ]
  },
  {
   "cell_type": "markdown",
   "metadata": {},
   "source": [
    "### 입력\n",
    "* :\n",
    "\n",
    "\n",
    "### 출력\n",
    "* \n",
    "\n",
    "\n",
    "### 문제 접근\n",
    "문제접근은 이렇게 하였습니다.\n",
    "* ~~ 이 면 됨.\n",
    "\n",
    "\n",
    "### 문제 해설\n",
    "~ 다음과 같다.   \n",
    "\n",
    "* 이다.\n",
    "\n",
    "> N개의 노드와, M개의 간선을 가진 그래프가 주어질 때, Target1 노드와 Target2 노드의 거리를 구하는 문제 (단, 서로 다른 그래프일 경우 -1 을 반환하면 됨.)\n",
    "\n",
    "< 코드 구현 > \n",
    "1. "
   ]
  },
  {
   "cell_type": "code",
   "execution_count": 40,
   "metadata": {},
   "outputs": [
    {
     "name": "stdout",
     "output_type": "stream",
     "text": [
      "10 1 10 2 1 \n",
      "6\n"
     ]
    }
   ],
   "source": [
    "from collections import deque\n",
    "\n",
    "F, S, G, U, D = map(int, input().split())\n",
    "\n",
    "# building = [[i] for i in range(F+1)]\n",
    "visited = [-1 for _ in range(F+1)]\n",
    "\n",
    "def bfs(start, startlink):\n",
    "    queue = deque()\n",
    "    queue.append(start)\n",
    "    visited[start] = 0\n",
    "    while queue:\n",
    "        floor = queue.popleft()\n",
    "        for button in [U, -D]:\n",
    "            nfloor = floor + button\n",
    "            if nfloor <= 0 or nfloor > F or visited[nfloor] != -1:\n",
    "                continue\n",
    "            queue.append(nfloor)\n",
    "            visited[nfloor] = visited[floor] + 1\n",
    "            \n",
    "    return visited[startlink]\n",
    "\n",
    "butt_cnt = bfs(S, G)\n",
    "\n",
    "if butt_cnt == -1:\n",
    "    print(\"use the stairs\")\n",
    "else:\n",
    "    print(butt_cnt)    "
   ]
  }
 ],
 "metadata": {
  "kernelspec": {
   "display_name": "Python 3",
   "language": "python",
   "name": "python3"
  },
  "language_info": {
   "codemirror_mode": {
    "name": "ipython",
    "version": 3
   },
   "file_extension": ".py",
   "mimetype": "text/x-python",
   "name": "python",
   "nbconvert_exporter": "python",
   "pygments_lexer": "ipython3",
   "version": "3.8.5"
  },
  "toc": {
   "base_numbering": 1,
   "nav_menu": {},
   "number_sections": true,
   "sideBar": true,
   "skip_h1_title": false,
   "title_cell": "Table of Contents",
   "title_sidebar": "Contents",
   "toc_cell": false,
   "toc_position": {},
   "toc_section_display": true,
   "toc_window_display": false
  },
  "varInspector": {
   "cols": {
    "lenName": 16,
    "lenType": 16,
    "lenVar": 40
   },
   "kernels_config": {
    "python": {
     "delete_cmd_postfix": "",
     "delete_cmd_prefix": "del ",
     "library": "var_list.py",
     "varRefreshCmd": "print(var_dic_list())"
    },
    "r": {
     "delete_cmd_postfix": ") ",
     "delete_cmd_prefix": "rm(",
     "library": "var_list.r",
     "varRefreshCmd": "cat(var_dic_list()) "
    }
   },
   "types_to_exclude": [
    "module",
    "function",
    "builtin_function_or_method",
    "instance",
    "_Feature"
   ],
   "window_display": false
  }
 },
 "nbformat": 4,
 "nbformat_minor": 4
}
