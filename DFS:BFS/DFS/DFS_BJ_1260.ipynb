{
 "cells": [
  {
   "cell_type": "markdown",
   "metadata": {},
   "source": [
    "## 백준온라인 저지 1260 번 문제 : DFS와 BFS\n",
    "문제 출처 : https://www.acmicpc.net/problem/1260"
   ]
  },
  {
   "cell_type": "markdown",
   "metadata": {},
   "source": [
    "노드의 개수가 N 이고 간선의 개수가 M 인 방향이 없는 그래프가 주어질때, 시작정점 V로 부터 DFS/BFS 의 수행 결과 탐색된 순서대로 노드의 번호를 출력하는 문제"
   ]
  },
  {
   "cell_type": "markdown",
   "metadata": {},
   "source": [
    "### 제출 코드\n",
    "```python\n",
    "import sys \n",
    "from collections import deque\n",
    "\n",
    "N, M, V = map(int, sys.stdin.readline().split())\n",
    "\n",
    "dfs_visited = [False] * (N+1)\n",
    "bfs_visited = [False] * (N+1)\n",
    "graph = [[] for _ in range(N+1)]\n",
    "\n",
    "for _ in range(M):\n",
    "    node1, node2 = map(int, sys.stdin.readline().split())\n",
    "    graph[node1].append(node2)\n",
    "    graph[node2].append(node1)\n",
    "\n",
    "for i in graph:\n",
    "    i.sort()\n",
    "    \n",
    "# dfs 함수 정의\n",
    "def dfs(graph, V, visited):\n",
    "    visited[V] = True\n",
    "    print(V, end=' ')\n",
    "    \n",
    "    for i in graph[V]:\n",
    "        if not visited[i]:\n",
    "            dfs(graph, i, visited)\n",
    "\n",
    "\n",
    "# bfs 함수 정의\n",
    "def bfs(graph, V, visited):\n",
    "    que = deque([V])\n",
    "    visited[V] = True\n",
    "\n",
    "    while que:\n",
    "        v = que.popleft()\n",
    "        print(v, end=' ')\n",
    "        for i in graph[v]:\n",
    "            if not visited[i]:\n",
    "                que.append(i)\n",
    "                visited[i] = True\n",
    "            \n",
    "    \n",
    "dfs(graph, V, dfs_visited)\n",
    "print('')\n",
    "bfs(graph, V, bfs_visited)\n",
    "```"
   ]
  },
  {
   "cell_type": "markdown",
   "metadata": {},
   "source": [
    "### 풀이코드\n",
    "1. 첫째줄에서 노드의 개수 N, 간선의 개수 M, 시작정점 V를 입력값으로 받음\n",
    "2. 각 노드의 방문 여부를 확인해줄 visited 변수 생성, N+1 만큼(편의상 python 은 0부터 시작하므로)\n",
    "3. 노드의 개수 + 1(편의상 python 은 0부터 시작하므로) 만큼 2차원 리스트인 graph 를 생성\n",
    "\n",
    "> dfs는 재귀함수를 이용하여 시작노드탐색 후 인접노드들을 탐색하고 인접 노드들에 대해 다시 dfs 함수를 수행하는 방식으로 풀이.\n",
    "* `dfs()` 는 입력받은 시작 노드먼저 방문처리 \n",
    "* 현재 노드를 출력하고\n",
    "* graph를 통해 시작 노드에 인접한 노드들을 반복문을 통해 꺼내 \n",
    "* 각각의 인접노드들에 대해 만일 방문하지 않았다면 각 노드별로 dfs수행\n",
    "\n",
    "> bfs는 deque 라이브러리를 사용하여 시작노드 탐색 후 시작 노드의 인접노드들을 queue 에 삽입 후, queue가 빌때까지 요소들을 하나씩 꺼내면서 다시 인접노드를 큐에 추가하고 방문처리 하는 방식으로 풀이\n",
    "* `bfs()` 는 입력받은 노드들을 돌아가며 모두 방문. (1)\n",
    "* 현재 노드를 방문처리하고 queue 에 삽입. (2)\n",
    "* queue 의 첫번째 요소(노드) 를 꺼내어 해당 노드와 연결된 노드들이 방문한적이 없다면, 방문처리하고 queue 에 삽입 (3)\n",
    "* 위 방법(3)을 queue 의 요소가 하나도 남지 않을 때 까지 반복. (4)"
   ]
  },
  {
   "cell_type": "code",
   "execution_count": 46,
   "metadata": {},
   "outputs": [
    {
     "name": "stdout",
     "output_type": "stream",
     "text": [
      "5 5 3 \n",
      "5 4 \n",
      "5 2 \n",
      "1 2 \n",
      "3 4 \n",
      "3 1 \n",
      "3 4 5 2 1 \n",
      "3 4 1 5 2 "
     ]
    }
   ],
   "source": [
    "import sys \n",
    "from collections import deque\n",
    "\n",
    "# 노드, 간선, 시작 노드의 번호 입력받음.\n",
    "N, M, V = map(int, input().split())\n",
    "\n",
    "# 방문여부 visited 리스트 정의 \n",
    "dfs_visited = [False] * (N+1)\n",
    "bfs_visited = [False] * (N+1)\n",
    "\n",
    "# 2차원 리스트인 그래프 정의(노드개수 + 1만큼)\n",
    "graph = [[] for _ in range(N+1)]\n",
    "\n",
    "# 노드간의 관계 받아 그래프에 표현\n",
    "for _ in range(M):\n",
    "    node1, node2 = map(int, input().split())\n",
    "    graph[node1].append(node2)\n",
    "    graph[node2].append(node1)\n",
    "\n",
    "# 번호가 작은 순서대로 탐색할 수 있도록 리스트 정렬\n",
    "for i in graph:\n",
    "    i.sort()\n",
    "    \n",
    "# dfs 함수 정의\n",
    "def dfs(graph, V, visited):\n",
    "    visited[V] = True  # 시작 노드 방문처리\n",
    "    print(V, end=' ')  # 방문한 노드 출력\n",
    "    \n",
    "    for i in graph[V]:  # 노드에 인접한 노드들 반복문\n",
    "        if not visited[i]:  # 만약 방문하지 않았다면\n",
    "            dfs(graph, i, visited)  # 방문하지 않은 노드에 대해 dfs 수행\n",
    "\n",
    "\n",
    "# bfs 함수 정의\n",
    "def bfs(graph, V, visited):\n",
    "    que = deque([V])  # deque 라이브러리 사용하여 que 객체 정의(시작노드 V 입력)\n",
    "    visited[V] = True  # 시작 노드 방문처리 \n",
    "\n",
    "    while que:  # que 가 모두 빌때까지 반복\n",
    "        v = que.popleft()  # que 첫번째 요소 popleft(첫번째로 입력된 값)\n",
    "        print(v, end=' ')  # 방문한 노드 출력\n",
    "        for i in graph[v]:  # 노드에 인접한 노드들 반복문\n",
    "            if not visited[i]:  # 만약 방문하지 않았다면\n",
    "                que.append(i)  # 큐에 입력 후\n",
    "                visited[i] = True  # 해당 노드 방문처리\n",
    "            \n",
    "\n",
    "# 탐색 결과 출력\n",
    "dfs(graph, V, dfs_visited)\n",
    "print('')\n",
    "bfs(graph, V, bfs_visited)"
   ]
  }
 ],
 "metadata": {
  "kernelspec": {
   "display_name": "Python 3",
   "language": "python",
   "name": "python3"
  },
  "language_info": {
   "codemirror_mode": {
    "name": "ipython",
    "version": 3
   },
   "file_extension": ".py",
   "mimetype": "text/x-python",
   "name": "python",
   "nbconvert_exporter": "python",
   "pygments_lexer": "ipython3",
   "version": "3.8.5"
  },
  "toc": {
   "base_numbering": 1,
   "nav_menu": {},
   "number_sections": true,
   "sideBar": true,
   "skip_h1_title": false,
   "title_cell": "Table of Contents",
   "title_sidebar": "Contents",
   "toc_cell": false,
   "toc_position": {},
   "toc_section_display": true,
   "toc_window_display": false
  },
  "varInspector": {
   "cols": {
    "lenName": 16,
    "lenType": 16,
    "lenVar": 40
   },
   "kernels_config": {
    "python": {
     "delete_cmd_postfix": "",
     "delete_cmd_prefix": "del ",
     "library": "var_list.py",
     "varRefreshCmd": "print(var_dic_list())"
    },
    "r": {
     "delete_cmd_postfix": ") ",
     "delete_cmd_prefix": "rm(",
     "library": "var_list.r",
     "varRefreshCmd": "cat(var_dic_list()) "
    }
   },
   "types_to_exclude": [
    "module",
    "function",
    "builtin_function_or_method",
    "instance",
    "_Feature"
   ],
   "window_display": false
  }
 },
 "nbformat": 4,
 "nbformat_minor": 4
}
