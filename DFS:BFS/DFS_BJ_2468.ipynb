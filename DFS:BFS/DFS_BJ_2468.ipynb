{
 "cells": [
  {
   "cell_type": "markdown",
   "metadata": {},
   "source": [
    "## 백준온라인 저지 2468 번 문제 : 안전영역\n",
    "문제 출처 : https://www.acmicpc.net/problem/2468"
   ]
  },
  {
   "cell_type": "markdown",
   "metadata": {},
   "source": [
    "## 제출코드"
   ]
  },
  {
   "cell_type": "markdown",
   "metadata": {},
   "source": [
    "```python\n",
    "import sys\n",
    "N = int(input())\n",
    "sys.setrecursionlimit(100000)\n",
    "\n",
    "region = []\n",
    "for _ in range(N):\n",
    "    region.append(list(map(int, sys.stdin.readline().split())))\n",
    "    \n",
    "# 상, 하, 좌, 우\n",
    "dx = [-1, 1, 0, 0]\n",
    "dy = [0, 0, -1, 1]\n",
    "\n",
    "# dfs 함수 정의\n",
    "def dfs(rain, x, y):\n",
    "    if (0<= x < N) and (0<= y < N) and visited[x][y] == 0 and region[x][y] > rain:\n",
    "#     if visited[nx][ny] == 0 and region[nx][ny] > rain and (0<= nx < N) and (0<= ny < N): 왜 이건 index out 뜨는지 모르겟음.. \n",
    "        visited[x][y] = 1\n",
    "            \n",
    "        for i in range(4):\n",
    "            nx = x + dx[i]\n",
    "            ny = y + dy[i]\n",
    "            dfs(rain, nx, ny)\n",
    "        \n",
    "        \n",
    "# 가장 높은 지역과 낮은 지역의 높이\n",
    "highest, lowest = max(map(max, region)), min(map(min, region))\n",
    "max_safty_zone = 1\n",
    "    \n",
    "for rain in range(lowest, highest):\n",
    "    visited = [[0] * N for _ in range(N)]\n",
    "    current_safe = 0\n",
    "    for i in range(N):\n",
    "        for j in range(N):\n",
    "            if visited[i][j] == 0 and region[i][j] > rain:\n",
    "                dfs(rain, i, j)\n",
    "                current_safe += 1\n",
    "                \n",
    "    max_safty_zone = max(max_safty_zone, current_safe)\n",
    "    \n",
    "        \n",
    "print(max_safty_zone)\n",
    "```"
   ]
  },
  {
   "cell_type": "markdown",
   "metadata": {},
   "source": [
    "---\n",
    "## 풀이 코드"
   ]
  },
  {
   "cell_type": "markdown",
   "metadata": {},
   "source": [
    "### 입력\n",
    "* 첫째줄 : 지역을 나타내는 2차원 배열의 행과 열의 개수 N (2<= N <= 100) \n",
    "* 둘째줄 ~ : 2차원 배열의 행이 첫번째 행 ~ N번째 행까지의 높이 정보가 입력됨. 각 자연수는 지역의 높이를 나타냄 (1<= 높이 <= 100)\n",
    "\n",
    "### 출력\n",
    "* 첫째줄 : 장마철에 잠기지 않는 안전한 영역의 최대 갯수\n",
    "\n",
    "### 문제 접근\n",
    "각 상황(비의 양)에 따라 그래프에서 dfs 로 연결되는 연결요소들을 구하여 가장 큰 값을 출력하는 문제로 생각하여 접근\n",
    "* 비가 오지 않을때는 최대 안전 영역은 1임. \n",
    "* 비의 양은 제일 낮은 지역 ~ 제일 높은 지역 만큼만 확인하면됨. -> 제일 높은 지역보다 비가 많이 오는 상황은 안전영역이 0 이므로 이후는 확인하지 않아도 됨.\n",
    "\n",
    "\n",
    "### 문제 해설\n",
    "주어진 그래프에서 dfs를 통해 연결요소를 구하는 문제. 다만, 각 상황(비의 양)에 따라서 그래프의 모양이 변한다는 점을 주의해서 풀이\n",
    "* dfs를 통해 연결된 모든 지역을 탐색하여 개수를 출력하는 문제임.\n",
    "* 현재상황(비의 양)에서의 안전영역의 개수를 현재까지의 안전영역의 개수와 비교하여 최대가 되는 값을 출력.\n",
    "\n",
    "> dfs 로 비에 잠기지 않은 영역들을 동서남북으로 탐색하고, 탐색이 끝날 경우 현재 비의 상황에서의 안전영역 개수를 카운트함. 반복해서 비의 양이 1씩 늘어날때마다, 안전영역의 개수를 비교하여 최대 안전영역을 출력\n",
    "\n",
    "< 코드 구현 > \n",
    "1. 지역을 나타내는 N 입력 받기 \n",
    "2. 높이 정보 입력 받아 2차원 배열로 표현하기 \n",
    "3. visited 정의하여 방문처리\n",
    "4. 각 칸 마다 \n",
    "    1) 방문하지 않았고,  \n",
    "    2) 비에 잠기지 않은 지역에 대해서 dfs 실행  \n",
    "5. dfs 탐색하는 지역의   \n",
    "    1) 지역 밖을 벗어나지 않고,  \n",
    "    2) 방문하지 않았고,  \n",
    "    3) 비에 잠기지 않았다면  \n",
    "    동서남북에 대해서 다시 dfs 탐색을 실시함.\n",
    "6. 탐색이 끝나면 안전영역을 카운트 해줌.\n",
    "7. 현재까지의 최대 안전 영역과 현재 비의 양에서의 안전영역을 max로 비교하여 각 상황(비의 양)에 대한 최대 안전 영역을 출력"
   ]
  },
  {
   "cell_type": "code",
   "execution_count": 7,
   "metadata": {},
   "outputs": [
    {
     "name": "stdout",
     "output_type": "stream",
     "text": [
      "5\n",
      "6 8 2 6 2 \n",
      "3 2 3 4 6 \n",
      "6 7 3 3 2\n",
      "7 2 5 3 6 \n",
      "8 9 5 2 7\n",
      "5\n"
     ]
    }
   ],
   "source": [
    "import sys\n",
    "N = int(input())\n",
    "sys.setrecursionlimit(100000)\n",
    "\n",
    "region = []\n",
    "for _ in range(N):\n",
    "    region.append(list(map(int, input().split())))\n",
    "    \n",
    "# 상, 하, 좌, 우\n",
    "dx = [-1, 1, 0, 0]\n",
    "dy = [0, 0, -1, 1]\n",
    "\n",
    "# dfs 함수 정의\n",
    "def dfs(rain, x, y):\n",
    "    if (0<= x < N) and (0<= y < N) and visited[x][y] == 0 and region[x][y] > rain:\n",
    "#     if visited[nx][ny] == 0 and region[nx][ny] > rain and (0<= nx < N) and (0<= ny < N): 왜 이건 index out 뜨는지 모르겟음.. \n",
    "        visited[x][y] = 1\n",
    "            \n",
    "        for i in range(4):\n",
    "            nx = x + dx[i]\n",
    "            ny = y + dy[i]\n",
    "            dfs(rain, nx, ny)\n",
    "        \n",
    "        \n",
    "# 가장 높은 지역과 낮은 지역의 높이\n",
    "highest, lowest = max(map(max, region)), min(map(min, region))\n",
    "max_safty_zone = 1\n",
    "    \n",
    "for rain in range(lowest, highest):\n",
    "    visited = [[0] * N for _ in range(N)]\n",
    "    current_safe = 0\n",
    "    for i in range(N):\n",
    "        for j in range(N):\n",
    "            if visited[i][j] == 0 and region[i][j] > rain:\n",
    "                dfs(rain, i, j)\n",
    "                current_safe += 1\n",
    "                \n",
    "    max_safty_zone = max(max_safty_zone, current_safe)\n",
    "    \n",
    "        \n",
    "print(max_safty_zone)"
   ]
  }
 ],
 "metadata": {
  "kernelspec": {
   "display_name": "Python 3",
   "language": "python",
   "name": "python3"
  },
  "language_info": {
   "codemirror_mode": {
    "name": "ipython",
    "version": 3
   },
   "file_extension": ".py",
   "mimetype": "text/x-python",
   "name": "python",
   "nbconvert_exporter": "python",
   "pygments_lexer": "ipython3",
   "version": "3.8.5"
  },
  "toc": {
   "base_numbering": 1,
   "nav_menu": {},
   "number_sections": true,
   "sideBar": true,
   "skip_h1_title": false,
   "title_cell": "Table of Contents",
   "title_sidebar": "Contents",
   "toc_cell": false,
   "toc_position": {},
   "toc_section_display": true,
   "toc_window_display": false
  },
  "varInspector": {
   "cols": {
    "lenName": 16,
    "lenType": 16,
    "lenVar": 40
   },
   "kernels_config": {
    "python": {
     "delete_cmd_postfix": "",
     "delete_cmd_prefix": "del ",
     "library": "var_list.py",
     "varRefreshCmd": "print(var_dic_list())"
    },
    "r": {
     "delete_cmd_postfix": ") ",
     "delete_cmd_prefix": "rm(",
     "library": "var_list.r",
     "varRefreshCmd": "cat(var_dic_list()) "
    }
   },
   "position": {
    "height": "633.212px",
    "left": "1836.55px",
    "right": "20px",
    "top": "105.983px",
    "width": "251.771px"
   },
   "types_to_exclude": [
    "module",
    "function",
    "builtin_function_or_method",
    "instance",
    "_Feature"
   ],
   "window_display": false
  }
 },
 "nbformat": 4,
 "nbformat_minor": 4
}
