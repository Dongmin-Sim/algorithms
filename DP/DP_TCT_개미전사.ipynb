{
 "cells": [
  {
   "cell_type": "markdown",
   "metadata": {},
   "source": [
    "## 이코테  문제 : 개미전사\n",
    "문제 출처 : https://www.youtube.com/watch?v=5Lu34WIx2Us&list=PLRx0vPvlEmdAghTr5mXQxGpHjWqSz0dgC&index=6"
   ]
  },
  {
   "cell_type": "markdown",
   "metadata": {},
   "source": [
    "---\n",
    "## 풀이 코드"
   ]
  },
  {
   "cell_type": "markdown",
   "metadata": {},
   "source": [
    "### 입력\n",
    "* 첫째 줄 : 식량창고의 개수 N이 주어짐 (3 <= N <= 100)\n",
    "* 둘째 줄 : 공백으로 구분되어 각 식량창고에 저장된 식량의 개수 K가 주어짐 (0 <= K <= 1,000)\n",
    "\n",
    "\n",
    "### 출력\n",
    "* 첫째줄에 개미전사가 얻을 수 있는 식량의 최댓값을 출력\n",
    "\n",
    "\n",
    "### 문제 접근\n",
    "* 왼쪽부터 차례대로 식량창고를 털지 안털지를 결정하는 경우\n",
    "* 특정한 i 번째 식량창고에 대해서 털지 안털지의 여부를 결정하는 경우 \n",
    "\n",
    "위 2가지에 대해서 확인하면됨. \n",
    "\n",
    "i가 특정한 위치를 나타낸다고 했을때, \n",
    "\n",
    "1. (i-1)번째 식량창고를 터는 경우 (- 현 위치의 식량창고는 털 수 없음.)\n",
    "2. (i-2)번째 식량창고를 터는 경우 (+ 현 위치의 식량창고를 털 수 있음.)\n",
    "\n",
    "위 두가지의 사항에 대해 최대가 되는 경우를 선택하면 됨. \n",
    "\n",
    "### 문제 해설\n",
    "문제에 대한 점화식은 다음과 같음. \n",
    "$$a_i = max(a_{i-1}, a_{i_2}+k)$$\n",
    "\n",
    "< 코드 구현 > \n",
    "1. 식량창고의 개수 N 을 입력받음. \n",
    "2. 식량창고에 저장된 식량의 개수 K 배열을 입력 받음. \n",
    "3. 최적의 해를 저장한 DP 테이블을 N의 개수 만큼 초기화 시킴. \n",
    "4. 첫번째 값은 K의 첫번째 값을 DP 테이블의 첫번째 값에 넣고, DP 테이블의 두번째 값은 첫번째 값과, 두번째 값 중 최댓값을 입력함.\n",
    "5. DP 테이블의 세번째 값 부터는 i-1과 i-2 + k(현재값) 중 큰 값을 DP 테이블에 입력함.\n",
    "    * 바로 이전 식량창고를 터는 것이 이득이라면, i-1의 최적의 해가 DP 테이블의 3번째 값으로 들어갈 것이고,\n",
    "    * 2칸 전 + 현재위치의 식량창고를 터는 것이 이들이라면 i-2 +k(현재식량) 의 최적의 해가 DP 테이블의 3번째 값으로 들어가게 됨. \n",
    "6. 5의 과정을 반복함."
   ]
  },
  {
   "cell_type": "markdown",
   "metadata": {},
   "source": [
    "## 모범 코드"
   ]
  },
  {
   "cell_type": "code",
   "execution_count": 12,
   "metadata": {},
   "outputs": [
    {
     "name": "stdout",
     "output_type": "stream",
     "text": [
      "4\n",
      "1 3 1 5\n",
      "8\n"
     ]
    }
   ],
   "source": [
    "# 식량창고의 개수 N을 입력 받음\n",
    "N = int(input())\n",
    "# 모든 식량 창고의 식량 정보를 입력받음. \n",
    "K = list(map(int, input().split()))\n",
    "\n",
    "# DP테이블을 N의 최대 개수만큼 0으로 초기화 해줌.\n",
    "dp = [0] * 100\n",
    "\n",
    "# DP 테이블의 첫번째 값을 입력받은 식량창고의 첫번째 값으로 저장\n",
    "dp[0] = K[0]\n",
    "# DP 테이블의 두번째 값을 입력받은 식량창고의 첫 번째 값과 두번째 값 중 최댓값으로 저장\n",
    "dp[1] = max(K[0], K[1])\n",
    "\n",
    "# 다이나믹 프로그래밍 (bottom-up)\n",
    "for i in range(2, N):\n",
    "    dp[i] = max(dp[i-1], dp[i-2] + K[i])\n",
    "\n",
    "# 계산된 결과 출력\n",
    "print(dp[N-1])"
   ]
  }
 ],
 "metadata": {
  "kernelspec": {
   "display_name": "Python 3",
   "language": "python",
   "name": "python3"
  },
  "language_info": {
   "codemirror_mode": {
    "name": "ipython",
    "version": 3
   },
   "file_extension": ".py",
   "mimetype": "text/x-python",
   "name": "python",
   "nbconvert_exporter": "python",
   "pygments_lexer": "ipython3",
   "version": "3.8.5"
  },
  "toc": {
   "base_numbering": 1,
   "nav_menu": {},
   "number_sections": true,
   "sideBar": true,
   "skip_h1_title": false,
   "title_cell": "Table of Contents",
   "title_sidebar": "Contents",
   "toc_cell": false,
   "toc_position": {},
   "toc_section_display": true,
   "toc_window_display": false
  },
  "varInspector": {
   "cols": {
    "lenName": 16,
    "lenType": 16,
    "lenVar": 40
   },
   "kernels_config": {
    "python": {
     "delete_cmd_postfix": "",
     "delete_cmd_prefix": "del ",
     "library": "var_list.py",
     "varRefreshCmd": "print(var_dic_list())"
    },
    "r": {
     "delete_cmd_postfix": ") ",
     "delete_cmd_prefix": "rm(",
     "library": "var_list.r",
     "varRefreshCmd": "cat(var_dic_list()) "
    }
   },
   "types_to_exclude": [
    "module",
    "function",
    "builtin_function_or_method",
    "instance",
    "_Feature"
   ],
   "window_display": false
  }
 },
 "nbformat": 4,
 "nbformat_minor": 4
}
