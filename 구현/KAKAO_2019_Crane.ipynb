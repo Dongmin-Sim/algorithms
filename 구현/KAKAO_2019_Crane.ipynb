{
 "cells": [
  {
   "cell_type": "markdown",
   "metadata": {},
   "source": [
    "## 카카오 2019 겨울 인턴십 : 크레인 인형뽑기 게임\n",
    "문제 출처 : "
   ]
  },
  {
   "cell_type": "markdown",
   "metadata": {},
   "source": [
    "## 제출코드"
   ]
  },
  {
   "cell_type": "markdown",
   "metadata": {},
   "source": [
    "```python\n",
    "\n",
    "```"
   ]
  },
  {
   "cell_type": "markdown",
   "metadata": {},
   "source": [
    "---\n",
    "## 풀이코드"
   ]
  },
  {
   "cell_type": "markdown",
   "metadata": {},
   "source": [
    "### 입력\n",
    "* 첫째 줄 : 전체 사람의 수 (N) = 노드의 수  \n",
    "\n",
    "\n",
    "\n",
    "### 출력\n",
    "* 둘째 줄에서 입력 받은 두 사람의 촌수를 나나태는 정수 반환 (친척관계가 없는 사람들은 -1 을 출력)\n",
    "\n",
    "\n",
    "### 문제 접근\n",
    "여러 노드들간의 관계가 주어졌을때 한 노드에서 한 노드까지의 거리를 dfs 로 구현하는 문제\n",
    "* 여러 사람들 간의 관계를 그래프로 표현이 가능.  \n",
    "\n",
    "\n",
    "### 문제 해설\n",
    "문제에서 제시해준 힌트들을 그래프에 대입하여 생각해보면 다음과 같다.   \n",
    "\n",
    "* 전체 사람의 수는 N 이다 == N 개의 노드를 가진 그래프 \n",
    "\n",
    "\n",
    "> N개의 노드와, M개의 간선을 가진 그래프가 주어질 때, Target1 노드와 Target2 노드의 거리를 구하는 문제 (단, 서로 다른 그래프일 경우 -1 을 반환하면 됨.)\n",
    "\n",
    "< 코드 구현 > \n",
    "1. 노드수, 간선 개수 입력받기 "
   ]
  },
  {
   "cell_type": "code",
   "execution_count": 1,
   "metadata": {},
   "outputs": [],
   "source": [
    "from collections import deque \n",
    "\n",
    "def solution(board, moves):\n",
    "    \n",
    "    plan = deque(moves)\n",
    "    basket = []\n",
    "    cnt = 0\n",
    "    \n",
    "    while plan:\n",
    "        crane = plan.popleft()\n",
    "        for i in range(len(board)):\n",
    "            top = board[i][crane-1]\n",
    "            if top != 0:                        \n",
    "                basket.append(top)\n",
    "                board[i][crane-1] = 0\n",
    "                \n",
    "                break\n",
    "    \n",
    "    max_while = len(basket)\n",
    "    while True:\n",
    "        for i in range(len(basket)-1):\n",
    "            if basket[i] == basket[i+1]:\n",
    "                del basket[i]\n",
    "                del basket[i]\n",
    "                cnt += 2\n",
    "                break\n",
    "        max_while -= 1\n",
    "        \n",
    "        if max_while == 0:\n",
    "            break\n",
    "\n",
    "    return board, cnt"
   ]
  },
  {
   "cell_type": "code",
   "execution_count": 2,
   "metadata": {},
   "outputs": [
    {
     "data": {
      "text/plain": [
       "([[0, 0, 0, 0, 0],\n",
       "  [0, 0, 0, 0, 0],\n",
       "  [0, 0, 5, 0, 0],\n",
       "  [0, 2, 4, 0, 2],\n",
       "  [0, 5, 1, 3, 1]],\n",
       " 4)"
      ]
     },
     "execution_count": 2,
     "metadata": {},
     "output_type": "execute_result"
    }
   ],
   "source": [
    "solution([[0,0,0,0,0],[0,0,1,0,3],[0,2,5,0,1],[4,2,4,4,2],[3,5,1,3,1]], [1,5,3,5,1,2,1,4])"
   ]
  }
 ],
 "metadata": {
  "kernelspec": {
   "display_name": "Python 3",
   "language": "python",
   "name": "python3"
  },
  "language_info": {
   "codemirror_mode": {
    "name": "ipython",
    "version": 3
   },
   "file_extension": ".py",
   "mimetype": "text/x-python",
   "name": "python",
   "nbconvert_exporter": "python",
   "pygments_lexer": "ipython3",
   "version": "3.8.5"
  },
  "toc": {
   "base_numbering": 1,
   "nav_menu": {},
   "number_sections": true,
   "sideBar": true,
   "skip_h1_title": false,
   "title_cell": "Table of Contents",
   "title_sidebar": "Contents",
   "toc_cell": false,
   "toc_position": {},
   "toc_section_display": true,
   "toc_window_display": false
  },
  "varInspector": {
   "cols": {
    "lenName": 16,
    "lenType": 16,
    "lenVar": 40
   },
   "kernels_config": {
    "python": {
     "delete_cmd_postfix": "",
     "delete_cmd_prefix": "del ",
     "library": "var_list.py",
     "varRefreshCmd": "print(var_dic_list())"
    },
    "r": {
     "delete_cmd_postfix": ") ",
     "delete_cmd_prefix": "rm(",
     "library": "var_list.r",
     "varRefreshCmd": "cat(var_dic_list()) "
    }
   },
   "types_to_exclude": [
    "module",
    "function",
    "builtin_function_or_method",
    "instance",
    "_Feature"
   ],
   "window_display": false
  }
 },
 "nbformat": 4,
 "nbformat_minor": 4
}
