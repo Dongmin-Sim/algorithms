{
 "cells": [
  {
   "cell_type": "code",
   "execution_count": null,
   "metadata": {},
   "outputs": [],
   "source": [
    "def solution(numbers, hand):\n",
    "    answer = ''\n",
    "    \n",
    "    keypad = {\n",
    "        '*' : (0, 0), '0' : (1, 0), '#' : (2, 0), '7' : (0, 1), '8' : (1, 1), '9' : (2, 1),\n",
    "        '4' : (0, 2), '5' : (1, 2), '6' : (2, 2), '1' : (0, 3), '2' : (1, 3), '3' : (2, 3),\n",
    "    }\n",
    "    \n",
    "    hand = 'L' if hand == 'left' else 'R'\n",
    "    \n",
    "    cur_L, cur_R = '*', '#'\n",
    "    \n",
    "    \n",
    "    for num in numbers:\n",
    "        if num in [1, 4, 7]:\n",
    "            answer += 'L'\n",
    "            cur_L = str(num)\n",
    "            \n",
    "        elif num in [3, 6, 9]:\n",
    "            answer += 'R'\n",
    "            cur_R = str(num)\n",
    "            \n",
    "        elif num in [2, 5, 8, 0]:\n",
    "            target_x, target_y = keypad[str(num)][0], keypad[str(num)][1]\n",
    "            \n",
    "            # 현재위치와 목표위치와의 거리\n",
    "            L_dist = abs(target_x - keypad[cur_L][0]) + abs(target_y - keypad[cur_L][1])\n",
    "            R_dist = abs(target_x - keypad[cur_R][0]) + abs(target_y - keypad[cur_R][1])\n",
    "            \n",
    "            \n",
    "            if L_dist > R_dist:\n",
    "                answer += 'R'\n",
    "                cur_R = str(num)\n",
    "            elif L_dist < R_dist:\n",
    "                answer += 'L'\n",
    "                cur_L = str(num)\n",
    "            elif L_dist == R_dist:\n",
    "                answer += hand\n",
    "                if hand == 'R':\n",
    "                    cur_R = str(num)\n",
    "                else:\n",
    "                    cur_L = str(num)\n",
    "            \n",
    "    \n",
    "    \n",
    "    return answer"
   ]
  }
 ],
 "metadata": {
  "kernelspec": {
   "display_name": "Python 3",
   "language": "python",
   "name": "python3"
  },
  "language_info": {
   "codemirror_mode": {
    "name": "ipython",
    "version": 3
   },
   "file_extension": ".py",
   "mimetype": "text/x-python",
   "name": "python",
   "nbconvert_exporter": "python",
   "pygments_lexer": "ipython3",
   "version": "3.8.5"
  },
  "toc": {
   "base_numbering": 1,
   "nav_menu": {},
   "number_sections": true,
   "sideBar": true,
   "skip_h1_title": false,
   "title_cell": "Table of Contents",
   "title_sidebar": "Contents",
   "toc_cell": false,
   "toc_position": {},
   "toc_section_display": true,
   "toc_window_display": false
  },
  "varInspector": {
   "cols": {
    "lenName": 16,
    "lenType": 16,
    "lenVar": 40
   },
   "kernels_config": {
    "python": {
     "delete_cmd_postfix": "",
     "delete_cmd_prefix": "del ",
     "library": "var_list.py",
     "varRefreshCmd": "print(var_dic_list())"
    },
    "r": {
     "delete_cmd_postfix": ") ",
     "delete_cmd_prefix": "rm(",
     "library": "var_list.r",
     "varRefreshCmd": "cat(var_dic_list()) "
    }
   },
   "types_to_exclude": [
    "module",
    "function",
    "builtin_function_or_method",
    "instance",
    "_Feature"
   ],
   "window_display": false
  }
 },
 "nbformat": 4,
 "nbformat_minor": 4
}
