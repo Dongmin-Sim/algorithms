{
 "cells": [
  {
   "cell_type": "markdown",
   "metadata": {},
   "source": [
    "## 이코테 실전문제 : 음료수 얼려먹기\n",
    "문제 출처 : http://www.yes24.com/Product/Goods/91433923, https://www.youtube.com/watch?v=7C9RgOcvkvo&list=PLRx0vPvlEmdAghTr5mXQxGpHjWqSz0dgC&index=3"
   ]
  },
  {
   "cell_type": "markdown",
   "metadata": {},
   "source": [
    "## 제출 코드\n",
    "```python\n",
    "N, M = map(int, input().split())\n",
    "\n",
    "ice = []\n",
    "for _ in range(N):\n",
    "    ice.append(list(map(int, input())))\n",
    "    \n",
    "dx = [-1, 1, 0, 0]    \n",
    "dy = [0, 0, -1, 1]\n",
    "    \n",
    "def dfs(x, y):\n",
    "    if (0 <= x < N) and (0<= y < M) and ice[x][y] == 0:\n",
    "        ice[x][y] = 1\n",
    "        for i in range(4):\n",
    "            nx = x + dx[i]\n",
    "            ny = y + dy[i]\n",
    "            \n",
    "            dfs(nx, ny)\n",
    "        return True\n",
    "    return False\n",
    "\n",
    "cnt = 0\n",
    "            \n",
    "for i in range(N):\n",
    "    for j in range(M):\n",
    "        if dfs(i, j) == True:\n",
    "            cnt += 1\n",
    "\n",
    "print(cnt)\n",
    "```"
   ]
  },
  {
   "cell_type": "markdown",
   "metadata": {},
   "source": [
    "---\n",
    "## 해설 코드"
   ]
  },
  {
   "cell_type": "markdown",
   "metadata": {},
   "source": [
    "### 입력\n",
    "- 첫 번째줄에 얼음 틀의 세로길이 N과 가로 길이 M이 주어짐 (1≤ N, M ≤1,000)\n",
    "- 두 번째줄 부터 N + 1번째 줄까지 얼음 틀의 형태가 주어짐.\n",
    "- 이때 구멍이 뚫려 있는 부분은 0, 그렇지 않은 부분은 1임.\n",
    "\n",
    "### 출력\n",
    "* 한 번에 만들 수 있는 아이스크림의 개수를 출력한다.\n",
    "\n",
    "\n",
    "### 문제 접근\n",
    "dfs 로 풀면 문제해결이 간단함.\n",
    "\n",
    "\n",
    "### 문제 해설\n",
    "0인 지점들의 묶음을 찾아주는 프로그램을 작성하면됨. dfs 로 간단히 해결이 가능함. 값이 0이고 상하좌우로 연결되어있는 노드들을 dfs로 모두 탐색하였을때, 개수를 세어주면 됨.\n",
    "\n",
    "1. 특정한 지점의 주변 상,하,좌,우를 살펴본 뒤에 주변 지점 중에서 값이 '0'이면서 아직 방문하지 않은 지점이 있다면 해당 지점을 방문\n",
    "2. 방문한 지점에서 다시 상,하,좌,우를 살펴보면서 방문을 다시 진행하면, 연결된 모든 지점을 방문할 수 있음.\n",
    "3. 1~2 번 과정을 모든 노드에 반복하며 방문하지 않은 지점의 수를 세면 됨."
   ]
  },
  {
   "cell_type": "code",
   "execution_count": 7,
   "metadata": {},
   "outputs": [
    {
     "name": "stdout",
     "output_type": "stream",
     "text": [
      "3 3 \n",
      "001\n",
      "010\n",
      "101\n",
      "3\n"
     ]
    }
   ],
   "source": [
    "n, m = map(int, input().split())\n",
    "\n",
    "graph = []\n",
    "for _ in range(n):\n",
    "    graph.append(list(map(int, input())))\n",
    "\n",
    "def dfs(x, y):\n",
    "    if x < 0 or x >= n or y < 0 or y >= m:\n",
    "        return False\n",
    "    if graph[x][y] == 0:\n",
    "        graph[x][y] = 1 \n",
    "        dfs(x - 1, y)\n",
    "        dfs(x, y - 1)\n",
    "        dfs(x + 1, y)\n",
    "        dfs(x, y + 1)\n",
    "        return True\n",
    "    return False\n",
    "\n",
    "result = 0\n",
    "for i in range(n):\n",
    "    for j in range(m):\n",
    "        if dfs(i, j) == True:\n",
    "            result += 1\n",
    "            \n",
    "print(result)"
   ]
  }
 ],
 "metadata": {
  "kernelspec": {
   "display_name": "Python 3",
   "language": "python",
   "name": "python3"
  },
  "language_info": {
   "codemirror_mode": {
    "name": "ipython",
    "version": 3
   },
   "file_extension": ".py",
   "mimetype": "text/x-python",
   "name": "python",
   "nbconvert_exporter": "python",
   "pygments_lexer": "ipython3",
   "version": "3.8.5"
  },
  "toc": {
   "base_numbering": 1,
   "nav_menu": {},
   "number_sections": true,
   "sideBar": true,
   "skip_h1_title": false,
   "title_cell": "Table of Contents",
   "title_sidebar": "Contents",
   "toc_cell": false,
   "toc_position": {},
   "toc_section_display": true,
   "toc_window_display": false
  },
  "varInspector": {
   "cols": {
    "lenName": 16,
    "lenType": 16,
    "lenVar": 40
   },
   "kernels_config": {
    "python": {
     "delete_cmd_postfix": "",
     "delete_cmd_prefix": "del ",
     "library": "var_list.py",
     "varRefreshCmd": "print(var_dic_list())"
    },
    "r": {
     "delete_cmd_postfix": ") ",
     "delete_cmd_prefix": "rm(",
     "library": "var_list.r",
     "varRefreshCmd": "cat(var_dic_list()) "
    }
   },
   "types_to_exclude": [
    "module",
    "function",
    "builtin_function_or_method",
    "instance",
    "_Feature"
   ],
   "window_display": false
  }
 },
 "nbformat": 4,
 "nbformat_minor": 4
}
